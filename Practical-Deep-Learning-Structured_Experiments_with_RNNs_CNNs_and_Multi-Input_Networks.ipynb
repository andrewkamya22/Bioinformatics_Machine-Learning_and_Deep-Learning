{
  "nbformat": 4,
  "nbformat_minor": 0,
  "metadata": {
    "kernelspec": {
      "display_name": "Python 3",
      "language": "python",
      "name": "python3"
    },
    "language_info": {
      "codemirror_mode": {
        "name": "ipython",
        "version": 3
      },
      "file_extension": ".py",
      "mimetype": "text/x-python",
      "name": "python",
      "nbconvert_exporter": "python",
      "pygments_lexer": "ipython3",
      "version": "3.5.2"
    },
    "colab": {
      "name": "Andrew_Kamya_Homework3.ipynb",
      "provenance": [],
      "collapsed_sections": []
    },
    "accelerator": "GPU"
  },
  "cells": [
    {
      "cell_type": "code",
      "metadata": {
        "id": "Owk76ZCesBP3",
        "colab": {
          "base_uri": "https://localhost:8080/",
          "height": 35
        },
        "outputId": "41280a4f-b952-4ee3-ad07-e4ca4d2c783f"
      },
      "source": [
        "import keras\n",
        "keras.__version__"
      ],
      "execution_count": 81,
      "outputs": [
        {
          "output_type": "execute_result",
          "data": {
            "application/vnd.google.colaboratory.intrinsic+json": {
              "type": "string"
            },
            "text/plain": [
              "'2.4.3'"
            ]
          },
          "metadata": {
            "tags": []
          },
          "execution_count": 81
        }
      ]
    },
    {
      "cell_type": "markdown",
      "metadata": {
        "id": "89oVDDC_sBQ3"
      },
      "source": [
        "# Third homework 'introduction to deep learning'\n",
        "## Part 1 - Section 6.3: Advanced usage of recurrent neural networks\n",
        "\n",
        "In this section, we will review three advanced techniques for improving the performance and generalization power of recurrent neural \n",
        "networks. By the end of the section, you will know most of what there is to know about using recurrent networks with Keras. We will \n",
        "demonstrate all three concepts on a weather forecasting problem, where we have access to a timeseries of data points coming from sensors \n",
        "installed on the roof of a building, such as temperature, air pressure, and humidity, which we use to predict what the temperature will be \n",
        "24 hours after the last data point collected. This is a fairly challenging problem that exemplifies many common difficulties encountered \n",
        "when working with timeseries.\n",
        "\n",
        "We will cover the following techniques:\n",
        "\n",
        "* *Recurrent dropout*, a specific, built-in way to use dropout to fight overfitting in recurrent layers.\n",
        "* *Stacking recurrent layers*, to increase the representational power of the network (at the cost of higher computational loads).\n",
        "* *Bidirectional recurrent layers*, which presents the same information to a recurrent network in different ways, increasing accuracy and \n",
        "mitigating forgetting issues."
      ]
    },
    {
      "cell_type": "markdown",
      "metadata": {
        "id": "OiTbmZgrsBQ8"
      },
      "source": [
        "## A temperature forecasting problem\n",
        "\n",
        "Until now, the only sequence data we have covered has been text data, for instance the IMDB dataset and the Reuters dataset. But sequence \n",
        "data is found in many more problems than just language processing. In all of our examples in this section, we will be playing with a weather \n",
        "timeseries dataset recorded at the Weather Station at the Max-Planck-Institute for Biogeochemistry in Jena, Germany: http://www.bgc-jena.mpg.de/wetter/.\n",
        "\n",
        "In this dataset, fourteen different quantities (such as air temperature, atmospheric pressure, humidity, wind direction, etc.) are recorded \n",
        "every ten minutes, over several years. The original data goes back to 2003, but we limit ourselves to data from 2009-2016. This dataset is \n",
        "perfect for learning to work with numerical timeseries. We will use it to build a model that takes as input some data from the recent past (a \n",
        "few days worth of data points) and predicts the air temperature 24 hours in the future."
      ]
    },
    {
      "cell_type": "markdown",
      "metadata": {
        "id": "5uFaGMn9MelC"
      },
      "source": [
        "Downloading the data in Google Colab:"
      ]
    },
    {
      "cell_type": "code",
      "metadata": {
        "id": "g1hN09Bstvx7"
      },
      "source": [
        "!wget -cq https://s3.amazonaws.com/keras-datasets/jena_climate_2009_2016.csv.zip \n",
        "!unzip -qq jena_climate_2009_2016.csv.zip \n",
        "fname = 'jena_climate_2009_2016.csv'"
      ],
      "execution_count": 82,
      "outputs": []
    },
    {
      "cell_type": "markdown",
      "metadata": {
        "id": "byXU-efSsBQ-"
      },
      "source": [
        "Let's take a look at the data:"
      ]
    },
    {
      "cell_type": "code",
      "metadata": {
        "id": "EIJPn24JsBRA",
        "colab": {
          "base_uri": "https://localhost:8080/"
        },
        "outputId": "71c91bbc-fc2d-4db0-b3f6-b0f920444397"
      },
      "source": [
        "import os\n",
        "\n",
        "#data_dir = 'jena_climate_2009_2016.csv'\n",
        "#fname = os.path.join(data_dir, 'jena_climate_2009_2016.csv')\n",
        "\n",
        "f = open(fname)\n",
        "data = f.read()\n",
        "f.close()\n",
        "\n",
        "lines = data.split('\\n')\n",
        "header = lines[0].split(',')\n",
        "lines = lines[1:]\n",
        "\n",
        "print(header)\n",
        "print(len(lines))"
      ],
      "execution_count": 83,
      "outputs": [
        {
          "output_type": "stream",
          "text": [
            "['\"Date Time\"', '\"p (mbar)\"', '\"T (degC)\"', '\"Tpot (K)\"', '\"Tdew (degC)\"', '\"rh (%)\"', '\"VPmax (mbar)\"', '\"VPact (mbar)\"', '\"VPdef (mbar)\"', '\"sh (g/kg)\"', '\"H2OC (mmol/mol)\"', '\"rho (g/m**3)\"', '\"wv (m/s)\"', '\"max. wv (m/s)\"', '\"wd (deg)\"']\n",
            "420551\n"
          ],
          "name": "stdout"
        }
      ]
    },
    {
      "cell_type": "markdown",
      "metadata": {
        "id": "7e1UFxAQsBRL"
      },
      "source": [
        "Let's convert all of these 420,551 lines of data into a Numpy array:"
      ]
    },
    {
      "cell_type": "code",
      "metadata": {
        "id": "tIw2uA51sBRN"
      },
      "source": [
        "import numpy as np\n",
        "\n",
        "float_data = np.zeros((len(lines), len(header) - 1))\n",
        "for i, line in enumerate(lines):\n",
        "    values = [float(x) for x in line.split(',')[1:]]\n",
        "    float_data[i, :] = values"
      ],
      "execution_count": 84,
      "outputs": []
    },
    {
      "cell_type": "code",
      "metadata": {
        "id": "ltscgqOROSxE",
        "colab": {
          "base_uri": "https://localhost:8080/"
        },
        "outputId": "9937621a-e3dc-4132-ad09-14076761ffcf"
      },
      "source": [
        "float_data.shape\n",
        "float_data[1,]"
      ],
      "execution_count": 85,
      "outputs": [
        {
          "output_type": "execute_result",
          "data": {
            "text/plain": [
              "array([ 9.9657e+02, -8.4100e+00,  2.6501e+02, -9.2800e+00,  9.3400e+01,\n",
              "        3.2300e+00,  3.0200e+00,  2.1000e-01,  1.8900e+00,  3.0300e+00,\n",
              "        1.3098e+03,  7.2000e-01,  1.5000e+00,  1.3610e+02])"
            ]
          },
          "metadata": {
            "tags": []
          },
          "execution_count": 85
        }
      ]
    },
    {
      "cell_type": "markdown",
      "metadata": {
        "id": "MF_RjaEusBRV"
      },
      "source": [
        "For instance, here is the plot of temperature (in degrees Celsius) over time:"
      ]
    },
    {
      "cell_type": "code",
      "metadata": {
        "id": "2PxpapY6sBRZ",
        "colab": {
          "base_uri": "https://localhost:8080/",
          "height": 268
        },
        "outputId": "6fd2dcd5-4cd2-4b2d-cc71-7678dd33a59a"
      },
      "source": [
        "from matplotlib import pyplot as plt\n",
        "\n",
        "temp = float_data[:, 1]  # temperature (in degrees Celsius)\n",
        "plt.plot(range(len(temp)), temp)\n",
        "plt.show()"
      ],
      "execution_count": 86,
      "outputs": [
        {
          "output_type": "display_data",
          "data": {
            "image/png": "[encoded data removed]",
            "text/plain": [
              "<Figure size 432x288 with 1 Axes>"
            ]
          },
          "metadata": {
            "tags": [],
            "needs_background": "light"
          }
        }
      ]
    },
    {
      "cell_type": "markdown",
      "metadata": {
        "id": "CHd815fXsBRf"
      },
      "source": [
        "\n",
        "On this plot, you can clearly see the yearly periodicity of temperature.\n",
        "\n",
        "Here is a more narrow plot of the first ten days of temperature data (since the data is recorded every ten minutes, we get 144 data points \n",
        "per day):"
      ]
    },
    {
      "cell_type": "code",
      "metadata": {
        "id": "kaLVDD9IsBRh",
        "colab": {
          "base_uri": "https://localhost:8080/",
          "height": 265
        },
        "outputId": "9a0fe15c-35e3-4e04-f7b9-e1b082986dbd"
      },
      "source": [
        "plt.plot(range(1440), temp[:1440])\n",
        "plt.show()"
      ],
      "execution_count": 87,
      "outputs": [
        {
          "output_type": "display_data",
          "data": {
            "image/png": "[encoded data removed]",
            "text/plain": [
              "<Figure size 432x288 with 1 Axes>"
            ]
          },
          "metadata": {
            "tags": [],
            "needs_background": "light"
          }
        }
      ]
    },
    {
      "cell_type": "markdown",
      "metadata": {
        "id": "yYQ-k0eqsBSL"
      },
      "source": [
        "\n",
        "On this plot, you can see daily periodicity, especially evident for the last 4 days. We can also note that this ten-days period must be \n",
        "coming from a fairly cold winter month.\n",
        "\n",
        "If we were trying to predict average temperature for the next month given a few month of past data, the problem would be easy, due to the \n",
        "reliable year-scale periodicity of the data. But looking at the data over a scale of days, the temperature looks a lot more chaotic. So is \n",
        "this timeseries predictable at a daily scale? Let's find out."
      ]
    },
    {
      "cell_type": "markdown",
      "metadata": {
        "id": "GmJr-wH2sBSN"
      },
      "source": [
        "## Preparing the data\n",
        "\n",
        "\n",
        "The exact formulation of our problem will be the following: given data going as far back as `lookback` timesteps (a timestep is 10 minutes) \n",
        "and sampled every `steps` timesteps, can we predict the temperature in `delay` timesteps?\n",
        "\n",
        "We will use the following parameter values:\n",
        "\n",
        "* `lookback = 720`, i.e. our observations will go back 5 days.\n",
        "* `steps = 6`, i.e. our observations will be sampled at one data point per hour.\n",
        "* `delay = 144`, i.e. our targets will be 24 hours in the future.\n",
        "\n",
        "To get started, we need to do two things:\n",
        "\n",
        "* Preprocess the data to a format a neural network can ingest. This is easy: the data is already numerical, so we don't need to do any \n",
        "vectorization. However each timeseries in the data is on a different scale (e.g. temperature is typically between -20 and +30, but \n",
        "pressure, measured in mbar, is around 1000). So we will normalize each timeseries independently so that they all take small values on a \n",
        "similar scale.\n",
        "* Write a Python generator that takes our current array of float data and yields batches of data from the recent past, alongside with a \n",
        "target temperature in the future. Since the samples in our dataset are highly redundant (e.g. sample `N` and sample `N + 1` will have most \n",
        "of their timesteps in common), it would be very wasteful to explicitly allocate every sample. Instead, we will generate the samples on the \n",
        "fly using the original data.\n",
        "\n",
        "We preprocess the data by subtracting the mean of each timeseries and dividing by the standard deviation. We plan on using the first \n",
        "200,000 timesteps as training data, so we compute the mean and standard deviation only on this fraction of the data:"
      ]
    },
    {
      "cell_type": "code",
      "metadata": {
        "id": "2u1PWj_VsBSQ"
      },
      "source": [
        "mean = float_data[:200000].mean(axis=0)\n",
        "float_data -= mean\n",
        "std = float_data[:200000].std(axis=0)\n",
        "float_data /= std"
      ],
      "execution_count": 88,
      "outputs": []
    },
    {
      "cell_type": "markdown",
      "metadata": {
        "id": "WNKU_PNIsBSW"
      },
      "source": [
        "\n",
        "Now here is the data generator that we will use. It yields a tuple `(samples, targets)` where `samples` is one batch of input data and \n",
        "`targets` is the corresponding array of target temperatures. It takes the following arguments:\n",
        "\n",
        "* `data`: The original array of floating point data, which we just normalized in the code snippet above.\n",
        "* `lookback`: How many timesteps back should our input data go.\n",
        "* `delay`: How many timesteps in the future should our target be.\n",
        "* `min_index` and `max_index`: Indices in the `data` array that delimit which timesteps to draw from. This is useful for keeping a segment \n",
        "of the data for validation and another one for testing.\n",
        "* `shuffle`: Whether to shuffle our samples or draw them in chronological order.\n",
        "* `batch_size`: The number of samples per batch.\n",
        "* `step`: The period, in timesteps, at which we sample data. We will set it 6 in order to draw one data point every hour."
      ]
    },
    {
      "cell_type": "code",
      "metadata": {
        "id": "AZy-nS5wsBSX"
      },
      "source": [
        "def generator(data, lookback, delay, min_index, max_index,\n",
        "              shuffle=False, batch_size=128, step=6):\n",
        "    if max_index is None:\n",
        "        max_index = len(data) - delay - 1\n",
        "    i = min_index + lookback\n",
        "    while 1:\n",
        "        if shuffle:\n",
        "            rows = np.random.randint(\n",
        "                min_index + lookback, max_index, size=batch_size)\n",
        "        else:\n",
        "            if i + batch_size >= max_index:\n",
        "                i = min_index + lookback\n",
        "            rows = np.arange(i, min(i + batch_size, max_index))\n",
        "            i += len(rows)\n",
        "\n",
        "        samples = np.zeros((len(rows),\n",
        "                           lookback // step,\n",
        "                           data.shape[-1]))\n",
        "        targets = np.zeros((len(rows),))\n",
        "        for j, row in enumerate(rows):\n",
        "            indices = range(rows[j] - lookback, rows[j], step)\n",
        "            samples[j] = data[indices]\n",
        "            targets[j] = data[rows[j] + delay][1]\n",
        "        yield samples, targets"
      ],
      "execution_count": 89,
      "outputs": []
    },
    {
      "cell_type": "markdown",
      "metadata": {
        "id": "wJgi_74AsBSy"
      },
      "source": [
        "\n",
        "Now let's use our abstract generator function to instantiate three generators, one for training, one for validation and one for testing. \n",
        "Each will look at different temporal segments of the original data: the training generator looks at the first 200,000 timesteps, the \n",
        "validation generator looks at the following 100,000, and the test generator looks at the remainder."
      ]
    },
    {
      "cell_type": "code",
      "metadata": {
        "id": "eRYepen-sBSz"
      },
      "source": [
        "lookback = 1440\n",
        "step = 6\n",
        "delay = 144\n",
        "batch_size = 128\n",
        "\n",
        "train_gen = generator(float_data,\n",
        "                      lookback=lookback,\n",
        "                      delay=delay,\n",
        "                      min_index=0,\n",
        "                      max_index=200000,\n",
        "                      shuffle=True,\n",
        "                      step=step, \n",
        "                      batch_size=batch_size)\n",
        "val_gen = generator(float_data,\n",
        "                    lookback=lookback,\n",
        "                    delay=delay,\n",
        "                    min_index=200001,\n",
        "                    max_index=300000,\n",
        "                    step=step,\n",
        "                    batch_size=batch_size)\n",
        "test_gen = generator(float_data,\n",
        "                     lookback=lookback,\n",
        "                     delay=delay,\n",
        "                     min_index=300001,\n",
        "                     max_index=None,\n",
        "                     step=step,\n",
        "                     batch_size=batch_size)\n",
        "\n",
        "# This is how many steps to draw from `val_gen`\n",
        "# in order to see the whole validation set:\n",
        "val_steps = (300000 - 200001 - lookback) // batch_size\n",
        "\n",
        "# This is how many steps to draw from `test_gen`\n",
        "# in order to see the whole test set:\n",
        "test_steps = (len(float_data) - 300001 - lookback) // batch_size"
      ],
      "execution_count": 90,
      "outputs": []
    },
    {
      "cell_type": "markdown",
      "metadata": {
        "id": "4kZLrfCvsBS7"
      },
      "source": [
        "## A common sense, non-machine learning baseline\n",
        "\n",
        "\n",
        "Before we start leveraging black-box deep learning models to solve our temperature prediction problem, let's try out a simple common-sense \n",
        "approach. It will serve as a sanity check, and it will establish a baseline that we will have to beat in order to demonstrate the \n",
        "usefulness of more advanced machine learning models. Such common-sense baselines can be very useful when approaching a new problem for \n",
        "which there is no known solution (yet). A classic example is that of unbalanced classification tasks, where some classes can be much more \n",
        "common than others. If your dataset contains 90% of instances of class A and 10% of instances of class B, then a common sense approach to \n",
        "the classification task would be to always predict \"A\" when presented with a new sample. Such a classifier would be 90% accurate overall, \n",
        "and any learning-based approach should therefore beat this 90% score in order to demonstrate usefulness. Sometimes such elementary \n",
        "baseline can prove surprisingly hard to beat.\n",
        "\n",
        "In our case, the temperature timeseries can safely be assumed to be continuous (the temperatures tomorrow are likely to be close to the \n",
        "temperatures today) as well as periodical with a daily period. Thus a common sense approach would be to always predict that the temperature \n",
        "24 hours from now will be equal to the temperature right now. Let's evaluate this approach, using the Mean Absolute Error metric (MAE). "
      ]
    },
    {
      "cell_type": "markdown",
      "metadata": {
        "id": "YK0MizuTsBTB"
      },
      "source": [
        "Here's our evaluation loop:"
      ]
    },
    {
      "cell_type": "code",
      "metadata": {
        "id": "5pYENkIqsBTD",
        "colab": {
          "base_uri": "https://localhost:8080/"
        },
        "outputId": "d191aa2e-b37a-468c-8a40-319233a446e8"
      },
      "source": [
        "def evaluate_naive_method():\n",
        "    batch_maes = []\n",
        "    for step in range(val_steps):\n",
        "        samples, targets = next(val_gen)\n",
        "        preds = samples[:, -1, 1]\n",
        "        mae = np.mean(np.abs(preds - targets))\n",
        "        batch_maes.append(mae)\n",
        "    print(np.mean(batch_maes))\n",
        "    \n",
        "evaluate_naive_method()"
      ],
      "execution_count": 91,
      "outputs": [
        {
          "output_type": "stream",
          "text": [
            "0.2897359729905486\n"
          ],
          "name": "stdout"
        }
      ]
    },
    {
      "cell_type": "markdown",
      "metadata": {
        "id": "CXNqh6qJsBTJ"
      },
      "source": [
        "It yields a MAE of 0.29. Since our temperature data has been normalized to be centered on 0 and have a standard deviation of one, this \n",
        "number is not immediately interpretable. It translates to an average absolute error of `0.29 * temperature_std` degrees Celsius, i.e. \n",
        "2.57˚C. That's a fairly large average absolute error -- now the game is to leverage our knowledge of deep learning to do better. "
      ]
    },
    {
      "cell_type": "markdown",
      "metadata": {
        "id": "xwde9oSBsBTM"
      },
      "source": [
        "## A basic machine learning approach\n",
        "\n",
        "In the same way that it is useful to establish a common sense baseline before trying machine learning approaches, it is useful to try \n",
        "simple and cheap machine learning models (such as small densely-connected networks) before looking into complicated and computationally \n",
        "expensive models such as RNNs. This is the best way to make sure that any further complexity we throw at the problem later on is legitimate \n",
        "and delivers real benefits.\n",
        "\n",
        "Here is a simply fully-connected model in which we start by flattening the data, then run it through two `Dense` layers. Note the lack of \n",
        "activation function on the last `Dense` layer, which is typical for a regression problem. We use MAE as the loss. Since we are evaluating \n",
        "on the exact same data and with the exact same metric as with our common sense approach, the results will be directly comparable."
      ]
    },
    {
      "cell_type": "code",
      "metadata": {
        "id": "pIgiSgg1sBTO",
        "colab": {
          "base_uri": "https://localhost:8080/"
        },
        "outputId": "55b8d7a1-e8aa-4272-a256-e4a89c55b9ff"
      },
      "source": [
        "from keras.models import Sequential\n",
        "from keras import layers\n",
        "from keras.optimizers import RMSprop\n",
        "\n",
        "model = Sequential()\n",
        "model.add(layers.Flatten(input_shape=(lookback // step, float_data.shape[-1])))\n",
        "model.add(layers.Dense(32, activation='relu'))\n",
        "model.add(layers.Dense(1))\n",
        "\n",
        "model.compile(optimizer=RMSprop(), loss='mae')\n",
        "history = model.fit_generator(train_gen,\n",
        "                              steps_per_epoch=500,\n",
        "                              epochs=20,\n",
        "                              validation_data=val_gen,\n",
        "                              validation_steps=val_steps)"
      ],
      "execution_count": null,
      "outputs": [
        {
          "output_type": "stream",
          "text": [
            "/usr/local/lib/python3.6/dist-packages/tensorflow/python/keras/engine/training.py:1844: UserWarning: `Model.fit_generator` is deprecated and will be removed in a future version. Please use `Model.fit`, which supports generators.\n",
            "  warnings.warn('`Model.fit_generator` is deprecated and '\n"
          ],
          "name": "stderr"
        },
        {
          "output_type": "stream",
          "text": [
            "Epoch 1/20\n",
            "500/500 [==============================] - 13s 22ms/step - loss: 2.2976 - val_loss: 1.0176\n",
            "Epoch 2/20\n",
            "500/500 [==============================] - 10s 21ms/step - loss: 0.7124 - val_loss: 0.3803\n",
            "Epoch 3/20\n",
            "500/500 [==============================] - 10s 21ms/step - loss: 0.3469 - val_loss: 0.3296\n",
            "Epoch 4/20\n",
            "500/500 [==============================] - 11s 21ms/step - loss: 0.2834 - val_loss: 0.3087\n",
            "Epoch 5/20\n",
            "500/500 [==============================] - 10s 21ms/step - loss: 0.2648 - val_loss: 0.3146\n",
            "Epoch 6/20\n",
            "500/500 [==============================] - 10s 21ms/step - loss: 0.2505 - val_loss: 0.2998\n",
            "Epoch 7/20\n",
            "500/500 [==============================] - 11s 21ms/step - loss: 0.2443 - val_loss: 0.3384\n",
            "Epoch 8/20\n",
            "500/500 [==============================] - 10s 21ms/step - loss: 0.2374 - val_loss: 0.3358\n",
            "Epoch 9/20\n",
            "500/500 [==============================] - 11s 21ms/step - loss: 0.2321 - val_loss: 0.3177\n",
            "Epoch 10/20\n",
            "500/500 [==============================] - 10s 21ms/step - loss: 0.2266 - val_loss: 0.3192\n",
            "Epoch 11/20\n",
            "500/500 [==============================] - 10s 21ms/step - loss: 0.2240 - val_loss: 0.3136\n",
            "Epoch 12/20\n",
            "500/500 [==============================] - 10s 21ms/step - loss: 0.2184 - val_loss: 0.3529\n",
            "Epoch 13/20\n",
            "500/500 [==============================] - 10s 21ms/step - loss: 0.2165 - val_loss: 0.3189\n",
            "Epoch 14/20\n",
            "500/500 [==============================] - 10s 21ms/step - loss: 0.2128 - val_loss: 0.3262\n",
            "Epoch 15/20\n",
            "500/500 [==============================] - 10s 21ms/step - loss: 0.2120 - val_loss: 0.3336\n",
            "Epoch 16/20\n",
            "500/500 [==============================] - 10s 21ms/step - loss: 0.2088 - val_loss: 0.3430\n",
            "Epoch 17/20\n",
            "500/500 [==============================] - 10s 21ms/step - loss: 0.2067 - val_loss: 0.3353\n",
            "Epoch 18/20\n",
            "500/500 [==============================] - 10s 20ms/step - loss: 0.2055 - val_loss: 0.3280\n",
            "Epoch 19/20\n",
            "500/500 [==============================] - 11s 21ms/step - loss: 0.2025 - val_loss: 0.3374\n",
            "Epoch 20/20\n",
            "500/500 [==============================] - 10s 21ms/step - loss: 0.2037 - val_loss: 0.3245\n"
          ],
          "name": "stdout"
        }
      ]
    },
    {
      "cell_type": "markdown",
      "metadata": {
        "id": "5_lCDmEfsBTT"
      },
      "source": [
        "Let's display the loss curves for validation and training:"
      ]
    },
    {
      "cell_type": "code",
      "metadata": {
        "id": "hnsJg_1usBTU",
        "colab": {
          "base_uri": "https://localhost:8080/",
          "height": 281
        },
        "outputId": "fb4ff69c-cbfe-4efa-88e0-82d315a6b70f"
      },
      "source": [
        "import matplotlib.pyplot as plt\n",
        "\n",
        "loss = history.history['loss']\n",
        "val_loss = history.history['val_loss']\n",
        "\n",
        "epochs = range(len(loss))\n",
        "\n",
        "plt.figure()\n",
        "\n",
        "plt.plot(epochs, loss, 'bo', label='Training loss')\n",
        "plt.plot(epochs, val_loss, 'b', label='Validation loss')\n",
        "plt.title('Training and validation loss')\n",
        "plt.legend()\n",
        "\n",
        "plt.show()"
      ],
      "execution_count": null,
      "outputs": [
        {
          "output_type": "display_data",
          "data": {
            "image/png": "[encoded data removed]",
            "text/plain": [
              "<Figure size 432x288 with 1 Axes>"
            ]
          },
          "metadata": {
            "tags": [],
            "needs_background": "light"
          }
        }
      ]
    },
    {
      "cell_type": "markdown",
      "metadata": {
        "id": "u7i5FPEhsBTd"
      },
      "source": [
        "\n",
        "Some of our validation losses get close to the no-learning baseline, but not very reliably. This goes to show the merit of having had this baseline in the first place: it turns out not to be so easy to outperform. Our \n",
        "common sense contains already a lot of valuable information that a machine learning model does not have access to.\n",
        "\n",
        "You may ask, if there exists a simple, well-performing model to go from the data to the targets (our common sense baseline), why doesn't \n",
        "the model we are training find it and improve on it? Simply put: because this simple solution is not what our training setup is looking \n",
        "for. The space of models in which we are searching for a solution, i.e. our hypothesis space, is the space of all possible 2-layer networks \n",
        "with the configuration that we defined. These networks are already fairly complicated. When looking for a solution with a space of \n",
        "complicated models, the simple well-performing baseline might be unlearnable, even if it's technically part of the hypothesis space. That \n",
        "is a pretty significant limitation of machine learning in general: unless the learning algorithm is hard-coded to look for a specific kind \n",
        "of simple model, parameter learning can sometimes fail to find a simple solution to a simple problem."
      ]
    },
    {
      "cell_type": "markdown",
      "metadata": {
        "id": "zVFE_b9osBTe"
      },
      "source": [
        "## A first recurrent baseline\n",
        "\n",
        "\n",
        "Our first fully-connected approach didn't do so well, but that doesn't mean machine learning is not applicable to our problem. The approach \n",
        "above consisted in first flattening the timeseries, which removed the notion of time from the input data. Let us instead look at our data \n",
        "as what it is: a sequence, where causality and order matter. We will try a recurrent sequence processing model -- it should be the perfect \n",
        "fit for such sequence data, precisely because it does exploit the temporal ordering of data points, unlike our first approach.\n",
        "\n",
        "Instead of the `LSTM` layer introduced in the previous section, we will use the `GRU` layer, developed by Cho et al. in 2014. `GRU` layers \n",
        "(which stands for \"gated recurrent unit\") work by leveraging the same principle as LSTM, but they are somewhat streamlined and thus cheaper \n",
        "to run, albeit they may not have quite as much representational power as LSTM. This trade-off between computational expensiveness and \n",
        "representational power is seen everywhere in machine learning."
      ]
    },
    {
      "cell_type": "code",
      "metadata": {
        "id": "zPNKU9DysBTf",
        "colab": {
          "base_uri": "https://localhost:8080/"
        },
        "outputId": "c8c3bfe2-d476-43da-f0ef-16601e153a60"
      },
      "source": [
        "from keras.models import Sequential\n",
        "from keras import layers\n",
        "from keras.optimizers import RMSprop\n",
        "\n",
        "model = Sequential()\n",
        "model.add(layers.GRU(32, input_shape=(None, float_data.shape[-1])))\n",
        "model.add(layers.Dense(1))\n",
        "\n",
        "model.compile(optimizer=RMSprop(), loss='mae')\n",
        "history = model.fit_generator(train_gen,\n",
        "                              steps_per_epoch=500,\n",
        "                              epochs=5,\n",
        "                              validation_data=val_gen,\n",
        "                              validation_steps=val_steps)"
      ],
      "execution_count": null,
      "outputs": [
        {
          "output_type": "stream",
          "text": [
            "/usr/local/lib/python3.6/dist-packages/tensorflow/python/keras/engine/training.py:1844: UserWarning: `Model.fit_generator` is deprecated and will be removed in a future version. Please use `Model.fit`, which supports generators.\n",
            "  warnings.warn('`Model.fit_generator` is deprecated and '\n"
          ],
          "name": "stderr"
        },
        {
          "output_type": "stream",
          "text": [
            "Epoch 1/5\n",
            "500/500 [==============================] - 21s 30ms/step - loss: 0.3183 - val_loss: 0.2683\n",
            "Epoch 2/5\n",
            "500/500 [==============================] - 15s 29ms/step - loss: 0.2861 - val_loss: 0.2659\n",
            "Epoch 3/5\n",
            "500/500 [==============================] - 15s 29ms/step - loss: 0.2809 - val_loss: 0.2657\n",
            "Epoch 4/5\n",
            "500/500 [==============================] - 15s 29ms/step - loss: 0.2765 - val_loss: 0.2639\n",
            "Epoch 5/5\n",
            "500/500 [==============================] - 15s 30ms/step - loss: 0.2719 - val_loss: 0.2623\n"
          ],
          "name": "stdout"
        }
      ]
    },
    {
      "cell_type": "markdown",
      "metadata": {
        "id": "cBvhLUFQNGJE"
      },
      "source": [
        "From this experiment onwards, the recurrent networks have not been trained for the full number of epochs in the book since according to the ETA for running one epoch, this would too much time."
      ]
    },
    {
      "cell_type": "markdown",
      "metadata": {
        "id": "NGCYM5EUsBTm"
      },
      "source": [
        "Let look at our results:"
      ]
    },
    {
      "cell_type": "code",
      "metadata": {
        "id": "zHY7hiFDsBTn",
        "colab": {
          "base_uri": "https://localhost:8080/",
          "height": 281
        },
        "outputId": "10939f61-29dc-4380-f432-7c9427e7f54f"
      },
      "source": [
        "loss = history.history['loss']\n",
        "val_loss = history.history['val_loss']\n",
        "\n",
        "epochs = range(len(loss))\n",
        "\n",
        "plt.figure()\n",
        "\n",
        "plt.plot(epochs, loss, 'bo', label='Training loss')\n",
        "plt.plot(epochs, val_loss, 'b', label='Validation loss')\n",
        "plt.title('Training and validation loss')\n",
        "plt.legend()\n",
        "\n",
        "plt.show()"
      ],
      "execution_count": null,
      "outputs": [
        {
          "output_type": "display_data",
          "data": {
            "image/png": "[encoded data removed]",
            "text/plain": [
              "<Figure size 432x288 with 1 Axes>"
            ]
          },
          "metadata": {
            "tags": [],
            "needs_background": "light"
          }
        }
      ]
    },
    {
      "cell_type": "markdown",
      "metadata": {
        "id": "j26eYA28sBTt"
      },
      "source": [
        "\n",
        "Much better! We are able to significantly beat the common sense baseline, such demonstrating the value of machine learning here, as well as \n",
        "the superiority of recurrent networks compared to sequence-flattening dense networks on this type of task.\n",
        "\n",
        "Our new validation MAE of ~0.265 (before we start significantly overfitting) translates to a mean absolute error of 2.35˚C after \n",
        "de-normalization. That's a solid gain on our initial error of 2.57˚C, but we probably still have a bit of margin for improvement."
      ]
    },
    {
      "cell_type": "markdown",
      "metadata": {
        "id": "jE9qkOCjsBTu"
      },
      "source": [
        "## Using recurrent dropout to fight overfitting\n",
        "\n",
        "\n",
        "It is evident from our training and validation curves that our model is overfitting: the training and validation losses start diverging \n",
        "considerably after a few epochs. You are already familiar with a classic technique for fighting this phenomenon: dropout, consisting in \n",
        "randomly zeroing-out input units of a layer in order to break happenstance correlations in the training data that the layer is exposed to. \n",
        "How to correctly apply dropout in recurrent networks, however, is not a trivial question. It has long been known that applying dropout \n",
        "before a recurrent layer hinders learning rather than helping with regularization. In 2015, Yarin Gal, as part of his Ph.D. thesis on \n",
        "Bayesian deep learning, determined the proper way to use dropout with a recurrent network: the same dropout mask (the same pattern of \n",
        "dropped units) should be applied at every timestep, instead of a dropout mask that would vary randomly from timestep to timestep. What's \n",
        "more: in order to regularize the representations formed by the recurrent gates of layers such as GRU and LSTM, a temporally constant \n",
        "dropout mask should be applied to the inner recurrent activations of the layer (a \"recurrent\" dropout mask). Using the same dropout mask at \n",
        "every timestep allows the network to properly propagate its learning error through time; a temporally random dropout mask would instead \n",
        "disrupt this error signal and be harmful to the learning process.\n",
        "\n",
        "Yarin Gal did his research using Keras and helped build this mechanism directly into Keras recurrent layers. Every recurrent layer in Keras \n",
        "has two dropout-related arguments: `dropout`, a float specifying the dropout rate for input units of the layer, and `recurrent_dropout`, \n",
        "specifying the dropout rate of the recurrent units. Let's add dropout and recurrent dropout to our GRU layer and see how it impacts \n",
        "overfitting. Because networks being regularized with dropout always take longer to fully converge, we train our network for twice as many \n",
        "epochs."
      ]
    },
    {
      "cell_type": "code",
      "metadata": {
        "id": "3K_xEwA8sBTw",
        "colab": {
          "base_uri": "https://localhost:8080/"
        },
        "outputId": "1b3a239b-12e5-4664-9c0b-dc57b1393703"
      },
      "source": [
        "from keras.models import Sequential\n",
        "from keras import layers\n",
        "from keras.optimizers import RMSprop\n",
        "\n",
        "model = Sequential()\n",
        "model.add(layers.GRU(32,\n",
        "                     dropout=0.2,\n",
        "                     recurrent_dropout=0.2,\n",
        "                     input_shape=(None, float_data.shape[-1])))\n",
        "model.add(layers.Dense(1))\n",
        "\n",
        "model.compile(optimizer=RMSprop(), loss='mae')\n",
        "history = model.fit_generator(train_gen,\n",
        "                              steps_per_epoch=500,\n",
        "                              epochs=5,\n",
        "                              validation_data=val_gen,\n",
        "                              validation_steps=val_steps)"
      ],
      "execution_count": null,
      "outputs": [
        {
          "output_type": "stream",
          "text": [
            "WARNING:tensorflow:Layer gru_1 will not use cuDNN kernel since it doesn't meet the cuDNN kernel criteria. It will use generic GPU kernel as fallback when running on GPU\n",
            "Epoch 1/5\n"
          ],
          "name": "stdout"
        },
        {
          "output_type": "stream",
          "text": [
            "/usr/local/lib/python3.6/dist-packages/tensorflow/python/keras/engine/training.py:1844: UserWarning: `Model.fit_generator` is deprecated and will be removed in a future version. Please use `Model.fit`, which supports generators.\n",
            "  warnings.warn('`Model.fit_generator` is deprecated and '\n"
          ],
          "name": "stderr"
        },
        {
          "output_type": "stream",
          "text": [
            "500/500 [==============================] - 409s 815ms/step - loss: 0.3541 - val_loss: 0.2771\n",
            "Epoch 2/5\n",
            "500/500 [==============================] - 406s 812ms/step - loss: 0.3072 - val_loss: 0.2728\n",
            "Epoch 3/5\n",
            "500/500 [==============================] - 405s 810ms/step - loss: 0.3018 - val_loss: 0.2765\n",
            "Epoch 4/5\n",
            "500/500 [==============================] - 406s 812ms/step - loss: 0.2959 - val_loss: 0.2716\n",
            "Epoch 5/5\n",
            "500/500 [==============================] - 403s 805ms/step - loss: 0.2907 - val_loss: 0.2667\n"
          ],
          "name": "stdout"
        }
      ]
    },
    {
      "cell_type": "code",
      "metadata": {
        "id": "z_cLzDEOsBT1",
        "colab": {
          "base_uri": "https://localhost:8080/",
          "height": 281
        },
        "outputId": "a1582319-4733-45fe-9a8e-48996d302a82"
      },
      "source": [
        "loss = history.history['loss']\n",
        "val_loss = history.history['val_loss']\n",
        "\n",
        "epochs = range(len(loss))\n",
        "\n",
        "plt.figure()\n",
        "\n",
        "plt.plot(epochs, loss, 'bo', label='Training loss')\n",
        "plt.plot(epochs, val_loss, 'b', label='Validation loss')\n",
        "plt.title('Training and validation loss')\n",
        "plt.legend()\n",
        "\n",
        "plt.show()"
      ],
      "execution_count": null,
      "outputs": [
        {
          "output_type": "display_data",
          "data": {
            "image/png": "[encoded data removed]",
            "text/plain": [
              "<Figure size 432x288 with 1 Axes>"
            ]
          },
          "metadata": {
            "tags": []
          }
        }
      ]
    },
    {
      "cell_type": "markdown",
      "metadata": {
        "id": "J5DjVBEHsBT6"
      },
      "source": [
        "Great success; we are no longer overfitting during the first 4 epochs. However, while we have more stable evaluation scores, our best \n",
        "scores are not much lower than they were previously."
      ]
    },
    {
      "cell_type": "markdown",
      "metadata": {
        "id": "WnN5dP2isBT9"
      },
      "source": [
        "## Stacking recurrent layers\n",
        "\n",
        "Since we are no longer overfitting yet we seem to have hit a performance bottleneck, we should start considering increasing the capacity of \n",
        "our network. If you remember our description of the \"universal machine learning workflow\": it is a generally a good idea to increase the \n",
        "capacity of your network until overfitting becomes your primary obstacle (assuming that you are already taking basic steps to mitigate \n",
        "overfitting, such as using dropout). As long as you are not overfitting too badly, then you are likely under-capacity.\n",
        "\n",
        "Increasing network capacity is typically done by increasing the number of units in the layers, or adding more layers. Recurrent layer \n",
        "stacking is a classic way to build more powerful recurrent networks: for instance, what currently powers the Google translate algorithm is \n",
        "a stack of seven large LSTM layers -- that's huge.\n",
        "\n",
        "To stack recurrent layers on top of each other in Keras, all intermediate layers should return their full sequence of outputs (a 3D tensor) \n",
        "rather than their output at the last timestep. This is done by specifying `return_sequences=True`: "
      ]
    },
    {
      "cell_type": "code",
      "metadata": {
        "id": "YJ1o_YLNsBT-",
        "colab": {
          "base_uri": "https://localhost:8080/",
          "height": 201
        },
        "outputId": "11efe975-4d6a-41c7-b3bb-97624f21eb7e"
      },
      "source": [
        "from keras.models import Sequential\n",
        "from keras import layers\n",
        "from keras.optimizers import RMSprop\n",
        "\n",
        "model = Sequential()\n",
        "model.add(layers.GRU(32,\n",
        "                     dropout=0.1,\n",
        "                     recurrent_dropout=0.5,\n",
        "                     return_sequences=True,\n",
        "                     input_shape=(None, float_data.shape[-1])))\n",
        "model.add(layers.GRU(64, activation='relu',\n",
        "                     dropout=0.1, \n",
        "                     recurrent_dropout=0.5))\n",
        "model.add(layers.Dense(1))\n",
        "\n",
        "model.compile(optimizer=RMSprop(), loss='mae')\n",
        "history = model.fit_generator(train_gen,\n",
        "                              steps_per_epoch=500,\n",
        "                              epochs=5,\n",
        "                              validation_data=val_gen,\n",
        "                              validation_steps=val_steps)"
      ],
      "execution_count": null,
      "outputs": [
        {
          "output_type": "stream",
          "text": [
            "Epoch 1/5\n",
            "500/500 [==============================] - 336s 671ms/step - loss: 0.3364 - val_loss: 0.2756\n",
            "Epoch 2/5\n",
            "500/500 [==============================] - 335s 671ms/step - loss: 0.3128 - val_loss: 0.2773\n",
            "Epoch 3/5\n",
            "500/500 [==============================] - 336s 672ms/step - loss: 0.3067 - val_loss: 0.2680\n",
            "Epoch 4/5\n",
            "500/500 [==============================] - 335s 671ms/step - loss: 0.3034 - val_loss: 0.2667\n",
            "Epoch 5/5\n",
            "500/500 [==============================] - 334s 668ms/step - loss: 0.3016 - val_loss: 0.2685\n"
          ],
          "name": "stdout"
        }
      ]
    },
    {
      "cell_type": "markdown",
      "metadata": {
        "id": "7azDPTFdsBUB"
      },
      "source": [
        "Let's take a look at our results:"
      ]
    },
    {
      "cell_type": "code",
      "metadata": {
        "id": "QX-gv4U6sBUC",
        "colab": {
          "base_uri": "https://localhost:8080/",
          "height": 281
        },
        "outputId": "48004cf3-b0de-4702-9465-c7dfcaff74a6"
      },
      "source": [
        "loss = history.history['loss']\n",
        "val_loss = history.history['val_loss']\n",
        "\n",
        "epochs = range(len(loss))\n",
        "\n",
        "plt.figure()\n",
        "\n",
        "plt.plot(epochs, loss, 'bo', label='Training loss')\n",
        "plt.plot(epochs, val_loss, 'b', label='Validation loss')\n",
        "plt.title('Training and validation loss')\n",
        "plt.legend()\n",
        "\n",
        "plt.show()"
      ],
      "execution_count": null,
      "outputs": [
        {
          "output_type": "display_data",
          "data": {
            "image/png": "[encoded data removed]",
            "text/plain": [
              "<Figure size 432x288 with 1 Axes>"
            ]
          },
          "metadata": {
            "tags": [],
            "needs_background": "light"
          }
        }
      ]
    },
    {
      "cell_type": "markdown",
      "metadata": {
        "id": "2TNvm1f2sBUG"
      },
      "source": [
        "We can see that the added layers do improve our results by a bit, albeit not very significantly. We can draw two conclusions:\n",
        "\n",
        "* Since we are still not overfitting too badly, we could safely increase the size of our layers, in quest for a bit of validation loss \n",
        "improvement. This does have a non-negligible computational cost, though. \n",
        "* Since adding a layer did not help us by a significant factor, we may be seeing diminishing returns to increasing network capacity at this \n",
        "point."
      ]
    },
    {
      "cell_type": "markdown",
      "metadata": {
        "id": "xZ2tztSFVlg-"
      },
      "source": [
        "### Part 1: Assignment 1"
      ]
    },
    {
      "cell_type": "markdown",
      "metadata": {
        "id": "HWMblRWNTKOW"
      },
      "source": [
        "Now as noted in the beginning of section 6.3.7, absence of too bad overfitting likely implies that the model is under capacity.  Also that we can increase the network capacity typically by increasing the number of units in layers or adding more layers. In this assignment, we are going to try 3 different arctecture choices each with different number of units of the recurrent layer(s) in the “stacked GRU model”.\n",
        "\n",
        "**Comment on the arctecture choices..**"
      ]
    },
    {
      "cell_type": "markdown",
      "metadata": {
        "id": "TICSiWSwVSry"
      },
      "source": [
        "**Arctecture 1**\n"
      ]
    },
    {
      "cell_type": "code",
      "metadata": {
        "id": "zYmeWKQ3AnZj",
        "colab": {
          "base_uri": "https://localhost:8080/"
        },
        "outputId": "b00a2251-2bc5-4171-fb51-1c6327370d47"
      },
      "source": [
        "from keras.models import Sequential\n",
        "from keras import layers\n",
        "from keras.optimizers import RMSprop\n",
        "\n",
        "model = Sequential()\n",
        "model.add(layers.GRU(64,\n",
        "                     dropout=0.1,\n",
        "                     recurrent_dropout=0.5,\n",
        "                     return_sequences=True,\n",
        "                     input_shape=(None, float_data.shape[-1])))\n",
        "model.add(layers.GRU(64, activation='relu',\n",
        "                     dropout=0.1, \n",
        "                     recurrent_dropout=0.5))\n",
        "model.add(layers.Dense(1))\n",
        "\n",
        "model.compile(optimizer=RMSprop(), loss='mae')\n",
        "history = model.fit_generator(train_gen,\n",
        "                              steps_per_epoch=500,\n",
        "                              epochs=5,\n",
        "                              validation_data=val_gen,\n",
        "                              validation_steps=val_steps)"
      ],
      "execution_count": null,
      "outputs": [
        {
          "output_type": "stream",
          "text": [
            "WARNING:tensorflow:Layer gru_2 will not use cuDNN kernel since it doesn't meet the cuDNN kernel criteria. It will use generic GPU kernel as fallback when running on GPU\n",
            "WARNING:tensorflow:Layer gru_3 will not use cuDNN kernel since it doesn't meet the cuDNN kernel criteria. It will use generic GPU kernel as fallback when running on GPU\n",
            "Epoch 1/5\n"
          ],
          "name": "stdout"
        },
        {
          "output_type": "stream",
          "text": [
            "/usr/local/lib/python3.6/dist-packages/tensorflow/python/keras/engine/training.py:1844: UserWarning: `Model.fit_generator` is deprecated and will be removed in a future version. Please use `Model.fit`, which supports generators.\n",
            "  warnings.warn('`Model.fit_generator` is deprecated and '\n"
          ],
          "name": "stderr"
        },
        {
          "output_type": "stream",
          "text": [
            "500/500 [==============================] - 833s 2s/step - loss: 0.3353 - val_loss: 0.2810\n",
            "Epoch 2/5\n",
            "500/500 [==============================] - 831s 2s/step - loss: 0.3005 - val_loss: 0.2743\n",
            "Epoch 3/5\n",
            "500/500 [==============================] - 833s 2s/step - loss: 0.2932 - val_loss: 0.2787\n",
            "Epoch 4/5\n",
            "500/500 [==============================] - 831s 2s/step - loss: 0.2816 - val_loss: 0.2651\n",
            "Epoch 5/5\n",
            "500/500 [==============================] - 818s 2s/step - loss: 0.2747 - val_loss: 0.2717\n"
          ],
          "name": "stdout"
        }
      ]
    },
    {
      "cell_type": "code",
      "metadata": {
        "id": "vhY601SjA4BX",
        "colab": {
          "base_uri": "https://localhost:8080/",
          "height": 281
        },
        "outputId": "16c387ec-02dd-4e21-e5d4-a3dbb000638b"
      },
      "source": [
        "loss = history.history['loss']\n",
        "val_loss = history.history['val_loss']\n",
        "\n",
        "epochs = range(len(loss))\n",
        "\n",
        "plt.figure()\n",
        "\n",
        "plt.plot(epochs, loss, 'bo', label='Training loss')\n",
        "plt.plot(epochs, val_loss, 'b', label='Validation loss')\n",
        "plt.title('Training and validation loss')\n",
        "plt.legend()\n",
        "\n",
        "plt.show()"
      ],
      "execution_count": null,
      "outputs": [
        {
          "output_type": "display_data",
          "data": {
            "image/png": "[encoded data removed]",
            "text/plain": [
              "<Figure size 432x288 with 1 Axes>"
            ]
          },
          "metadata": {
            "tags": [],
            "needs_background": "light"
          }
        }
      ]
    },
    {
      "cell_type": "markdown",
      "metadata": {
        "id": "XzhYYezPWBhN"
      },
      "source": [
        "**Arctecture 2**\n"
      ]
    },
    {
      "cell_type": "code",
      "metadata": {
        "id": "b0IMQA5qAwAf",
        "colab": {
          "base_uri": "https://localhost:8080/"
        },
        "outputId": "91ca5741-3e49-4645-9aad-674e4f51d1b2"
      },
      "source": [
        "from keras.models import Sequential\n",
        "from keras import layers\n",
        "from keras.optimizers import RMSprop\n",
        "\n",
        "model = Sequential()\n",
        "model.add(layers.GRU(32,\n",
        "                     dropout=0.1,\n",
        "                     recurrent_dropout=0.5,\n",
        "                     return_sequences=True,\n",
        "                     input_shape=(None, float_data.shape[-1])))\n",
        "model.add(layers.GRU(128, activation='relu',\n",
        "                     dropout=0.1, \n",
        "                     recurrent_dropout=0.5))\n",
        "model.add(layers.Dense(1))\n",
        "\n",
        "model.compile(optimizer=RMSprop(), loss='mae')\n",
        "history = model.fit_generator(train_gen,\n",
        "                              steps_per_epoch=500,\n",
        "                              epochs=5,\n",
        "                              validation_data=val_gen,\n",
        "                              validation_steps=val_steps)"
      ],
      "execution_count": null,
      "outputs": [
        {
          "output_type": "stream",
          "text": [
            "WARNING:tensorflow:Layer gru_4 will not use cuDNN kernel since it doesn't meet the cuDNN kernel criteria. It will use generic GPU kernel as fallback when running on GPU\n",
            "WARNING:tensorflow:Layer gru_5 will not use cuDNN kernel since it doesn't meet the cuDNN kernel criteria. It will use generic GPU kernel as fallback when running on GPU\n",
            "Epoch 1/5\n"
          ],
          "name": "stdout"
        },
        {
          "output_type": "stream",
          "text": [
            "/usr/local/lib/python3.6/dist-packages/tensorflow/python/keras/engine/training.py:1844: UserWarning: `Model.fit_generator` is deprecated and will be removed in a future version. Please use `Model.fit`, which supports generators.\n",
            "  warnings.warn('`Model.fit_generator` is deprecated and '\n"
          ],
          "name": "stderr"
        },
        {
          "output_type": "stream",
          "text": [
            "500/500 [==============================] - 847s 2s/step - loss: 0.3406 - val_loss: 0.2799\n",
            "Epoch 2/5\n",
            "500/500 [==============================] - 857s 2s/step - loss: 0.3024 - val_loss: 0.2769\n",
            "Epoch 3/5\n",
            "500/500 [==============================] - 841s 2s/step - loss: 0.2921 - val_loss: 0.2675\n",
            "Epoch 4/5\n",
            "500/500 [==============================] - 831s 2s/step - loss: 0.2806 - val_loss: 0.2669\n",
            "Epoch 5/5\n",
            "500/500 [==============================] - 828s 2s/step - loss: 0.2714 - val_loss: 0.2729\n"
          ],
          "name": "stdout"
        }
      ]
    },
    {
      "cell_type": "code",
      "metadata": {
        "id": "AjgzI_x-A569",
        "colab": {
          "base_uri": "https://localhost:8080/",
          "height": 281
        },
        "outputId": "f2ae7102-0a75-474e-e7e3-054df7253fc6"
      },
      "source": [
        "loss = history.history['loss']\n",
        "val_loss = history.history['val_loss']\n",
        "\n",
        "epochs = range(len(loss))\n",
        "\n",
        "plt.figure()\n",
        "\n",
        "plt.plot(epochs, loss, 'bo', label='Training loss')\n",
        "plt.plot(epochs, val_loss, 'b', label='Validation loss')\n",
        "plt.title('Training and validation loss')\n",
        "plt.legend()\n",
        "\n",
        "plt.show()"
      ],
      "execution_count": null,
      "outputs": [
        {
          "output_type": "display_data",
          "data": {
            "image/png": "[encoded data removed]",
            "text/plain": [
              "<Figure size 432x288 with 1 Axes>"
            ]
          },
          "metadata": {
            "tags": [],
            "needs_background": "light"
          }
        }
      ]
    },
    {
      "cell_type": "markdown",
      "metadata": {
        "id": "fAti9KsOXymP"
      },
      "source": [
        "**Arctecture 3**\n"
      ]
    },
    {
      "cell_type": "code",
      "metadata": {
        "colab": {
          "base_uri": "https://localhost:8080/"
        },
        "id": "cnBeHA7XXuDV",
        "outputId": "524d83d5-0a63-4c7c-e20d-41f68c7458f3"
      },
      "source": [
        "from keras.models import Sequential\n",
        "from keras import layers\n",
        "from keras.optimizers import RMSprop\n",
        "\n",
        "model = Sequential()\n",
        "model.add(layers.GRU(64,\n",
        "                     dropout=0.1,\n",
        "                     recurrent_dropout=0.5,\n",
        "                     return_sequences=True,\n",
        "                     input_shape=(None, float_data.shape[-1])))\n",
        "model.add(layers.GRU(128, activation='relu',\n",
        "                     dropout=0.1, \n",
        "                     recurrent_dropout=0.5))\n",
        "model.add(layers.Dense(1))\n",
        "\n",
        "model.compile(optimizer=RMSprop(), loss='mae')\n",
        "history = model.fit_generator(train_gen,\n",
        "                              steps_per_epoch=500,\n",
        "                              epochs=5,\n",
        "                              validation_data=val_gen,\n",
        "                              validation_steps=val_steps)"
      ],
      "execution_count": null,
      "outputs": [
        {
          "output_type": "stream",
          "text": [
            "WARNING:tensorflow:Layer gru_6 will not use cuDNN kernel since it doesn't meet the cuDNN kernel criteria. It will use generic GPU kernel as fallback when running on GPU\n",
            "WARNING:tensorflow:Layer gru_7 will not use cuDNN kernel since it doesn't meet the cuDNN kernel criteria. It will use generic GPU kernel as fallback when running on GPU\n",
            "Epoch 1/5\n"
          ],
          "name": "stdout"
        },
        {
          "output_type": "stream",
          "text": [
            "/usr/local/lib/python3.6/dist-packages/tensorflow/python/keras/engine/training.py:1844: UserWarning: `Model.fit_generator` is deprecated and will be removed in a future version. Please use `Model.fit`, which supports generators.\n",
            "  warnings.warn('`Model.fit_generator` is deprecated and '\n"
          ],
          "name": "stderr"
        },
        {
          "output_type": "stream",
          "text": [
            "500/500 [==============================] - 841s 2s/step - loss: 0.3354 - val_loss: 0.2770\n",
            "Epoch 2/5\n",
            "500/500 [==============================] - 842s 2s/step - loss: 0.2981 - val_loss: 0.2777\n",
            "Epoch 3/5\n",
            "500/500 [==============================] - 852s 2s/step - loss: 0.2872 - val_loss: 0.2788\n",
            "Epoch 4/5\n",
            "500/500 [==============================] - 848s 2s/step - loss: 0.2740 - val_loss: 0.2706\n",
            "Epoch 5/5\n",
            "500/500 [==============================] - 843s 2s/step - loss: 0.2656 - val_loss: 0.2760\n"
          ],
          "name": "stdout"
        }
      ]
    },
    {
      "cell_type": "code",
      "metadata": {
        "colab": {
          "base_uri": "https://localhost:8080/",
          "height": 281
        },
        "id": "5rViWVbcYF7f",
        "outputId": "1287d570-4735-489c-a0ec-0094a3e29e52"
      },
      "source": [
        "loss = history.history['loss']\n",
        "val_loss = history.history['val_loss']\n",
        "\n",
        "epochs = range(len(loss))\n",
        "\n",
        "plt.figure()\n",
        "\n",
        "plt.plot(epochs, loss, 'bo', label='Training loss')\n",
        "plt.plot(epochs, val_loss, 'b', label='Validation loss')\n",
        "plt.title('Training and validation loss')\n",
        "plt.legend()\n",
        "\n",
        "plt.show()"
      ],
      "execution_count": null,
      "outputs": [
        {
          "output_type": "display_data",
          "data": {
            "image/png": "[encoded data removed]",
            "text/plain": [
              "<Figure size 432x288 with 1 Axes>"
            ]
          },
          "metadata": {
            "tags": [],
            "needs_background": "light"
          }
        }
      ]
    },
    {
      "cell_type": "markdown",
      "metadata": {
        "id": "9Hkz_FqhYQIi"
      },
      "source": [
        "### Part 1: Assignment 2"
      ]
    },
    {
      "cell_type": "markdown",
      "metadata": {
        "id": "5Tbb2gOtYqth"
      },
      "source": [
        "In this assignent, we shall try to improve the GRU stacked model by stacking different numbers of dense layers. We are still going to try 3 different arctecture choices.\n",
        "\n",
        "**Comment on the arctecture choices..**"
      ]
    },
    {
      "cell_type": "markdown",
      "metadata": {
        "id": "-Qx9z_IAZ1J-"
      },
      "source": [
        "**Arctecture 1** (Stacking another but small dense layer)"
      ]
    },
    {
      "cell_type": "code",
      "metadata": {
        "id": "4eJrio9-MuCn"
      },
      "source": [
        "from keras.models import Sequential\n",
        "from keras import layers\n",
        "from keras.optimizers import RMSprop\n",
        "\n",
        "model = Sequential()\n",
        "model.add(layers.GRU(32,\n",
        "                     dropout=0.1,\n",
        "                     recurrent_dropout=0.5,\n",
        "                     return_sequences=True,\n",
        "                     input_shape=(None, float_data.shape[-1])))\n",
        "model.add(layers.GRU(64, activation='relu',\n",
        "                     dropout=0.1, \n",
        "                     recurrent_dropout=0.5))\n",
        "model.add(layers.Dense(32, activation='relu'))\n",
        "model.add(layers.Dense(1))\n",
        "\n",
        "model.compile(optimizer=RMSprop(), loss='mae')\n",
        "history = model.fit_generator(train_gen,\n",
        "                              steps_per_epoch=500,\n",
        "                              epochs=5,\n",
        "                              validation_data=val_gen,\n",
        "                              validation_steps=val_steps)\n"
      ],
      "execution_count": null,
      "outputs": []
    },
    {
      "cell_type": "code",
      "metadata": {
        "id": "eTh6XZDGNGzB",
        "colab": {
          "base_uri": "https://localhost:8080/",
          "height": 281
        },
        "outputId": "7c75f4ee-d566-43a9-852a-fea1140804ab"
      },
      "source": [
        "loss = history.history['loss']\n",
        "val_loss = history.history['val_loss']\n",
        "\n",
        "epochs = range(len(loss))\n",
        "\n",
        "plt.figure()\n",
        "\n",
        "plt.plot(epochs, loss, 'bo', label='Training loss')\n",
        "plt.plot(epochs, val_loss, 'b', label='Validation loss')\n",
        "plt.title('Training and validation loss')\n",
        "plt.legend()\n",
        "\n",
        "plt.show()"
      ],
      "execution_count": null,
      "outputs": [
        {
          "output_type": "display_data",
          "data": {
            "image/png": "[encoded data removed]",
            "text/plain": [
              "<Figure size 432x288 with 1 Axes>"
            ]
          },
          "metadata": {
            "tags": [],
            "needs_background": "light"
          }
        }
      ]
    },
    {
      "cell_type": "markdown",
      "metadata": {
        "id": "bj4vgwIuc_f3"
      },
      "source": [
        "**Arctecture 2** (Making the stacked dense layer larger)"
      ]
    },
    {
      "cell_type": "code",
      "metadata": {
        "id": "GhgsTS4TRFyT",
        "colab": {
          "base_uri": "https://localhost:8080/"
        },
        "outputId": "76b5d5c1-7b48-404b-afcd-f27bac0049c7"
      },
      "source": [
        "from keras.models import Sequential\n",
        "from keras import layers\n",
        "from keras.optimizers import RMSprop\n",
        "\n",
        "model = Sequential()\n",
        "model.add(layers.GRU(32,\n",
        "                     dropout=0.1,\n",
        "                     recurrent_dropout=0.5,\n",
        "                     return_sequences=True,\n",
        "                     input_shape=(None, float_data.shape[-1])))\n",
        "model.add(layers.GRU(64, activation='relu',\n",
        "                     dropout=0.1, \n",
        "                     recurrent_dropout=0.5))\n",
        "model.add(layers.Dense(64, activation='relu'))\n",
        "model.add(layers.Dense(1))\n",
        "\n",
        "model.compile(optimizer=RMSprop(), loss='mae')\n",
        "history = model.fit_generator(train_gen,\n",
        "                              steps_per_epoch=500,\n",
        "                              epochs=5,\n",
        "                              validation_data=val_gen,\n",
        "                              validation_steps=val_steps)"
      ],
      "execution_count": null,
      "outputs": [
        {
          "output_type": "stream",
          "text": [
            "WARNING:tensorflow:Layer gru_10 will not use cuDNN kernel since it doesn't meet the cuDNN kernel criteria. It will use generic GPU kernel as fallback when running on GPU\n",
            "WARNING:tensorflow:Layer gru_11 will not use cuDNN kernel since it doesn't meet the cuDNN kernel criteria. It will use generic GPU kernel as fallback when running on GPU\n",
            "Epoch 1/5\n"
          ],
          "name": "stdout"
        },
        {
          "output_type": "stream",
          "text": [
            "/usr/local/lib/python3.6/dist-packages/tensorflow/python/keras/engine/training.py:1844: UserWarning: `Model.fit_generator` is deprecated and will be removed in a future version. Please use `Model.fit`, which supports generators.\n",
            "  warnings.warn('`Model.fit_generator` is deprecated and '\n"
          ],
          "name": "stderr"
        },
        {
          "output_type": "stream",
          "text": [
            "500/500 [==============================] - 909s 2s/step - loss: 0.3490 - val_loss: 0.2898\n",
            "Epoch 2/5\n",
            "500/500 [==============================] - 921s 2s/step - loss: 0.3044 - val_loss: 0.2800\n",
            "Epoch 3/5\n",
            "500/500 [==============================] - 912s 2s/step - loss: 0.2972 - val_loss: 0.2817\n",
            "Epoch 4/5\n",
            "500/500 [==============================] - 884s 2s/step - loss: 0.2884 - val_loss: 0.2710\n",
            "Epoch 5/5\n",
            "500/500 [==============================] - 883s 2s/step - loss: 0.2819 - val_loss: 0.2738\n"
          ],
          "name": "stdout"
        }
      ]
    },
    {
      "cell_type": "code",
      "metadata": {
        "id": "L-OElM1aRxnu",
        "colab": {
          "base_uri": "https://localhost:8080/",
          "height": 281
        },
        "outputId": "1d3f5afc-bbd8-4546-cb64-2fe4b99a304c"
      },
      "source": [
        "loss = history.history['loss']\n",
        "val_loss = history.history['val_loss']\n",
        "\n",
        "epochs = range(len(loss))\n",
        "\n",
        "plt.figure()\n",
        "\n",
        "plt.plot(epochs, loss, 'bo', label='Training loss')\n",
        "plt.plot(epochs, val_loss, 'b', label='Validation loss')\n",
        "plt.title('Training and validation loss')\n",
        "plt.legend()\n",
        "\n",
        "plt.show()"
      ],
      "execution_count": null,
      "outputs": [
        {
          "output_type": "display_data",
          "data": {
            "image/png": "[encoded data removed]",
            "text/plain": [
              "<Figure size 432x288 with 1 Axes>"
            ]
          },
          "metadata": {
            "tags": [],
            "needs_background": "light"
          }
        }
      ]
    },
    {
      "cell_type": "markdown",
      "metadata": {
        "id": "c1suPg_pdZdh"
      },
      "source": [
        "**Arctecture 3** (Stacking two large dense layers)"
      ]
    },
    {
      "cell_type": "code",
      "metadata": {
        "id": "J8KGpGvORJv7",
        "colab": {
          "base_uri": "https://localhost:8080/"
        },
        "outputId": "a4f5e1fe-a64d-4624-d10b-18c9425cd4d4"
      },
      "source": [
        "from keras.models import Sequential\n",
        "from keras import layers\n",
        "from keras.optimizers import RMSprop\n",
        "\n",
        "model = Sequential()\n",
        "model.add(layers.GRU(32,\n",
        "                     dropout=0.1,\n",
        "                     recurrent_dropout=0.5,\n",
        "                     return_sequences=True,\n",
        "                     input_shape=(None, float_data.shape[-1])))\n",
        "model.add(layers.GRU(128, activation='relu',\n",
        "                     dropout=0.1, \n",
        "                     recurrent_dropout=0.5))\n",
        "model.add(layers.Dense(64, activation='relu'))\n",
        "model.add(layers.Dense(1))\n",
        "\n",
        "model.compile(optimizer=RMSprop(), loss='mae')\n",
        "history = model.fit_generator(train_gen,\n",
        "                              steps_per_epoch=500,\n",
        "                              epochs=5,\n",
        "                              validation_data=val_gen,\n",
        "                              validation_steps=val_steps)"
      ],
      "execution_count": null,
      "outputs": [
        {
          "output_type": "stream",
          "text": [
            "WARNING:tensorflow:Layer gru_12 will not use cuDNN kernel since it doesn't meet the cuDNN kernel criteria. It will use generic GPU kernel as fallback when running on GPU\n",
            "WARNING:tensorflow:Layer gru_13 will not use cuDNN kernel since it doesn't meet the cuDNN kernel criteria. It will use generic GPU kernel as fallback when running on GPU\n",
            "Epoch 1/5\n"
          ],
          "name": "stdout"
        },
        {
          "output_type": "stream",
          "text": [
            "/usr/local/lib/python3.6/dist-packages/tensorflow/python/keras/engine/training.py:1844: UserWarning: `Model.fit_generator` is deprecated and will be removed in a future version. Please use `Model.fit`, which supports generators.\n",
            "  warnings.warn('`Model.fit_generator` is deprecated and '\n"
          ],
          "name": "stderr"
        },
        {
          "output_type": "stream",
          "text": [
            "500/500 [==============================] - 877s 2s/step - loss: 0.3426 - val_loss: 0.2781\n",
            "Epoch 2/5\n",
            "500/500 [==============================] - 860s 2s/step - loss: 0.3046 - val_loss: 0.2770\n",
            "Epoch 3/5\n",
            "500/500 [==============================] - 852s 2s/step - loss: 0.2955 - val_loss: 0.2746\n",
            "Epoch 4/5\n",
            "500/500 [==============================] - 848s 2s/step - loss: 0.2845 - val_loss: 0.2759\n",
            "Epoch 5/5\n",
            "500/500 [==============================] - 854s 2s/step - loss: 0.2733 - val_loss: 0.2792\n"
          ],
          "name": "stdout"
        }
      ]
    },
    {
      "cell_type": "markdown",
      "metadata": {
        "id": "Eqm5D6up3xVw"
      },
      "source": [
        "This model collapses from the first Epoch, putting more stacks of layers may might crash the model."
      ]
    },
    {
      "cell_type": "code",
      "metadata": {
        "id": "o3K4X8dTRzlP",
        "colab": {
          "base_uri": "https://localhost:8080/",
          "height": 281
        },
        "outputId": "0edba6cf-32ff-4207-e9ef-2677f8c38d3f"
      },
      "source": [
        "loss = history.history['loss']\n",
        "val_loss = history.history['val_loss']\n",
        "\n",
        "epochs = range(len(loss))\n",
        "\n",
        "plt.figure()\n",
        "\n",
        "plt.plot(epochs, loss, 'bo', label='Training loss')\n",
        "plt.plot(epochs, val_loss, 'b', label='Validation loss')\n",
        "plt.title('Training and validation loss')\n",
        "plt.legend()\n",
        "\n",
        "plt.show()"
      ],
      "execution_count": null,
      "outputs": [
        {
          "output_type": "display_data",
          "data": {
            "image/png": "[encoded data removed]",
            "text/plain": [
              "<Figure size 432x288 with 1 Axes>"
            ]
          },
          "metadata": {
            "tags": [],
            "needs_background": "light"
          }
        }
      ]
    },
    {
      "cell_type": "markdown",
      "metadata": {
        "id": "ifDO5FCE5UoS"
      },
      "source": [
        "### Part 1: Assignment 3 - Testing the best performing model\n",
        "The model in archtecture 1 of the first assignment of part 1 remains better with a validation loss of around 0.265 but not so performant on the test dataset."
      ]
    },
    {
      "cell_type": "code",
      "metadata": {
        "id": "jiOVAm4y5M67"
      },
      "source": [
        "test_acc = model.evaluate(test_gen, steps = 1000)"
      ],
      "execution_count": null,
      "outputs": []
    },
    {
      "cell_type": "code",
      "metadata": {
        "id": "CuUff5VT6wTM"
      },
      "source": [
        "test_acc"
      ],
      "execution_count": null,
      "outputs": []
    },
    {
      "cell_type": "markdown",
      "metadata": {
        "id": "K44tdLTZsBUG"
      },
      "source": [
        "## Using bidirectional RNNs\n",
        "\n",
        "\n",
        "The last technique that we will introduce in this section is called \"bidirectional RNNs\". A bidirectional RNN is common RNN variant which \n",
        "can offer higher performance than a regular RNN on certain tasks. It is frequently used in natural language processing -- you could call it \n",
        "the Swiss army knife of deep learning for NLP.\n",
        "\n",
        "RNNs are notably order-dependent, or time-dependent: they process the timesteps of their input sequences in order, and shuffling or \n",
        "reversing the timesteps can completely change the representations that the RNN will extract from the sequence. This is precisely the reason \n",
        "why they perform well on problems where order is meaningful, such as our temperature forecasting problem. A bidirectional RNN exploits \n",
        "the order-sensitivity of RNNs: it simply consists of two regular RNNs, such as the GRU or LSTM layers that you are already familiar with, \n",
        "each processing input sequence in one direction (chronologically and antichronologically), then merging their representations. By \n",
        "processing a sequence both way, a bidirectional RNN is able to catch patterns that may have been overlooked by a one-direction RNN.\n",
        "\n",
        "Remarkably, the fact that the RNN layers in this section have so far processed sequences in chronological order (older timesteps first) may \n",
        "have been an arbitrary decision. At least, it's a decision we made no attempt at questioning so far. Could it be that our RNNs could have \n",
        "performed well enough if it were processing input sequences in antichronological order, for instance (newer timesteps first)? Let's try \n",
        "this in practice and see what we get. All we need to do is write a variant of our data generator, where the input sequences get reverted \n",
        "along the time dimension (replace the last line with `yield samples[:, ::-1, :], targets`). Training the same one-GRU-layer network as we \n",
        "used in the first experiment in this section, we get the following results:"
      ]
    },
    {
      "cell_type": "code",
      "metadata": {
        "id": "cqA4XfzzsBUH"
      },
      "source": [
        "def reverse_order_generator(data, lookback, delay, min_index, max_index,\n",
        "                            shuffle=False, batch_size=128, step=6):\n",
        "    if max_index is None:\n",
        "        max_index = len(data) - delay - 1\n",
        "    i = min_index + lookback\n",
        "    while 1:\n",
        "        if shuffle:\n",
        "            rows = np.random.randint(\n",
        "                min_index + lookback, max_index, size=batch_size)\n",
        "        else:\n",
        "            if i + batch_size >= max_index:\n",
        "                i = min_index + lookback\n",
        "            rows = np.arange(i, min(i + batch_size, max_index))\n",
        "            i += len(rows)\n",
        "\n",
        "        samples = np.zeros((len(rows),\n",
        "                           lookback // step,\n",
        "                           data.shape[-1]))\n",
        "        targets = np.zeros((len(rows),))\n",
        "        for j, row in enumerate(rows):\n",
        "            indices = range(rows[j] - lookback, rows[j], step)\n",
        "            samples[j] = data[indices]\n",
        "            targets[j] = data[rows[j] + delay][1]\n",
        "        yield samples[:, ::-1, :], targets\n",
        "        \n",
        "train_gen_reverse = reverse_order_generator(\n",
        "    float_data,\n",
        "    lookback=lookback,\n",
        "    delay=delay,\n",
        "    min_index=0,\n",
        "    max_index=200000,\n",
        "    shuffle=True,\n",
        "    step=step, \n",
        "    batch_size=batch_size)\n",
        "val_gen_reverse = reverse_order_generator(\n",
        "    float_data,\n",
        "    lookback=lookback,\n",
        "    delay=delay,\n",
        "    min_index=200001,\n",
        "    max_index=300000,\n",
        "    step=step,\n",
        "    batch_size=batch_size)"
      ],
      "execution_count": null,
      "outputs": []
    },
    {
      "cell_type": "code",
      "metadata": {
        "id": "qgesYqllsBUL",
        "outputId": "c9cd1f55-b1b3-47f2-a251-59820e69fc80"
      },
      "source": [
        "model = Sequential()\n",
        "model.add(layers.GRU(32, input_shape=(None, float_data.shape[-1])))\n",
        "model.add(layers.Dense(1))\n",
        "\n",
        "model.compile(optimizer=RMSprop(), loss='mae')\n",
        "history = model.fit_generator(train_gen_reverse,\n",
        "                              steps_per_epoch=500,\n",
        "                              epochs=20,\n",
        "                              validation_data=val_gen_reverse,\n",
        "                              validation_steps=val_steps)"
      ],
      "execution_count": null,
      "outputs": [
        {
          "output_type": "stream",
          "text": [
            "Epoch 1/20\n",
            "500/500 [==============================] - 172s - loss: 0.4781 - val_loss: 0.4797\n",
            "Epoch 2/20\n",
            "500/500 [==============================] - 171s - loss: 0.4529 - val_loss: 0.4679\n",
            "Epoch 3/20\n",
            "500/500 [==============================] - 170s - loss: 0.4071 - val_loss: 0.4536\n",
            "Epoch 4/20\n",
            "500/500 [==============================] - 171s - loss: 0.3670 - val_loss: 0.4398\n",
            "Epoch 5/20\n",
            "500/500 [==============================] - 170s - loss: 0.3343 - val_loss: 0.4320\n",
            "Epoch 6/20\n",
            "500/500 [==============================] - 170s - loss: 0.3191 - val_loss: 0.4388\n",
            "Epoch 7/20\n",
            "500/500 [==============================] - 170s - loss: 0.3065 - val_loss: 0.4186\n",
            "Epoch 8/20\n",
            "500/500 [==============================] - 170s - loss: 0.2938 - val_loss: 0.4014\n",
            "Epoch 9/20\n",
            "500/500 [==============================] - 170s - loss: 0.2824 - val_loss: 0.4077\n",
            "Epoch 10/20\n",
            "500/500 [==============================] - 170s - loss: 0.2724 - val_loss: 0.4090\n",
            "Epoch 11/20\n",
            "500/500 [==============================] - 170s - loss: 0.2670 - val_loss: 0.3990\n",
            "Epoch 12/20\n",
            "500/500 [==============================] - 170s - loss: 0.2613 - val_loss: 0.4146\n",
            "Epoch 13/20\n",
            "500/500 [==============================] - 170s - loss: 0.2548 - val_loss: 0.4013\n",
            "Epoch 14/20\n",
            "500/500 [==============================] - 170s - loss: 0.2521 - val_loss: 0.4086\n",
            "Epoch 15/20\n",
            "500/500 [==============================] - 170s - loss: 0.2458 - val_loss: 0.4178\n",
            "Epoch 16/20\n",
            "500/500 [==============================] - 170s - loss: 0.2437 - val_loss: 0.4097\n",
            "Epoch 17/20\n",
            "500/500 [==============================] - 170s - loss: 0.2416 - val_loss: 0.4163\n",
            "Epoch 18/20\n",
            "500/500 [==============================] - 170s - loss: 0.2373 - val_loss: 0.4174\n",
            "Epoch 19/20\n",
            "500/500 [==============================] - 170s - loss: 0.2355 - val_loss: 0.4064\n",
            "Epoch 20/20\n",
            "500/500 [==============================] - 170s - loss: 0.2313 - val_loss: 0.4261\n"
          ],
          "name": "stdout"
        }
      ]
    },
    {
      "cell_type": "code",
      "metadata": {
        "id": "BxTIyqUSsBUS",
        "outputId": "d7c86c97-8b88-499f-ba52-8b44d597b344"
      },
      "source": [
        "loss = history.history['loss']\n",
        "val_loss = history.history['val_loss']\n",
        "\n",
        "epochs = range(len(loss))\n",
        "\n",
        "plt.figure()\n",
        "\n",
        "plt.plot(epochs, loss, 'bo', label='Training loss')\n",
        "plt.plot(epochs, val_loss, 'b', label='Validation loss')\n",
        "plt.title('Training and validation loss')\n",
        "plt.legend()\n",
        "\n",
        "plt.show()"
      ],
      "execution_count": null,
      "outputs": [
        {
          "output_type": "display_data",
          "data": {
            "text/plain": [
              "<matplotlib.figure.Figure at 0x7f3314e81860>"
            ]
          },
          "metadata": {
            "tags": []
          }
        },
        {
          "output_type": "display_data",
          "data": {
            "image/png": "[encoded data removed]",
            "text/plain": [
              "<matplotlib.figure.Figure at 0x7f330f25bcc0>"
            ]
          },
          "metadata": {
            "tags": []
          }
        }
      ]
    },
    {
      "cell_type": "markdown",
      "metadata": {
        "id": "cexIXhn7sBUX"
      },
      "source": [
        "\n",
        "So the reversed-order GRU strongly underperforms even the common-sense baseline, indicating that the in our case chronological processing is very \n",
        "important to the success of our approach. This makes perfect sense: the underlying GRU layer will typically be better at remembering the \n",
        "recent past than the distant past, and naturally the more recent weather data points are more predictive than older data points in our \n",
        "problem (that's precisely what makes the common-sense baseline a fairly strong baseline). Thus the chronological version of the layer is \n",
        "bound to outperform the reversed-order version. Importantly, this is generally not true for many other problems, including natural \n",
        "language: intuitively, the importance of a word in understanding a sentence is not usually dependent on its position in the sentence. Let's \n",
        "try the same trick on the LSTM IMDB example from the previous section:"
      ]
    },
    {
      "cell_type": "code",
      "metadata": {
        "id": "Gb5dRj3ZsBUZ",
        "outputId": "e4ab0bf6-ba5d-456e-8651-a2e4d9463453"
      },
      "source": [
        "from keras.datasets import imdb\n",
        "from keras.preprocessing import sequence\n",
        "from keras import layers\n",
        "from keras.models import Sequential\n",
        "\n",
        "# Number of words to consider as features\n",
        "max_features = 10000\n",
        "# Cut texts after this number of words (among top max_features most common words)\n",
        "maxlen = 500\n",
        "\n",
        "# Load data\n",
        "(x_train, y_train), (x_test, y_test) = imdb.load_data(num_words=max_features)\n",
        "\n",
        "# Reverse sequences\n",
        "x_train = [x[::-1] for x in x_train]\n",
        "x_test = [x[::-1] for x in x_test]\n",
        "\n",
        "# Pad sequences\n",
        "x_train = sequence.pad_sequences(x_train, maxlen=maxlen)\n",
        "x_test = sequence.pad_sequences(x_test, maxlen=maxlen)\n",
        "\n",
        "model = Sequential()\n",
        "model.add(layers.Embedding(max_features, 128))\n",
        "model.add(layers.LSTM(32))\n",
        "model.add(layers.Dense(1, activation='sigmoid'))\n",
        "\n",
        "model.compile(optimizer='rmsprop',\n",
        "              loss='binary_crossentropy',\n",
        "              metrics=['acc'])\n",
        "history = model.fit(x_train, y_train,\n",
        "                    epochs=10,\n",
        "                    batch_size=128,\n",
        "                    validation_split=0.2)"
      ],
      "execution_count": null,
      "outputs": [
        {
          "output_type": "stream",
          "text": [
            "Train on 20000 samples, validate on 5000 samples\n",
            "Epoch 1/10\n",
            "20000/20000 [==============================] - 111s - loss: 0.4965 - acc: 0.7648 - val_loss: 0.3593 - val_acc: 0.8570\n",
            "Epoch 2/10\n",
            "20000/20000 [==============================] - 107s - loss: 0.3105 - acc: 0.8810 - val_loss: 0.3329 - val_acc: 0.8648\n",
            "Epoch 3/10\n",
            "20000/20000 [==============================] - 105s - loss: 0.2566 - acc: 0.9057 - val_loss: 0.3863 - val_acc: 0.8770\n",
            "Epoch 4/10\n",
            "20000/20000 [==============================] - 106s - loss: 0.2231 - acc: 0.9195 - val_loss: 0.3471 - val_acc: 0.8556\n",
            "Epoch 5/10\n",
            "20000/20000 [==============================] - 105s - loss: 0.1912 - acc: 0.9314 - val_loss: 0.3346 - val_acc: 0.8694\n",
            "Epoch 6/10\n",
            "20000/20000 [==============================] - 105s - loss: 0.1721 - acc: 0.9379 - val_loss: 0.3621 - val_acc: 0.8520\n",
            "Epoch 7/10\n",
            "20000/20000 [==============================] - 105s - loss: 0.1613 - acc: 0.9427 - val_loss: 0.3438 - val_acc: 0.8694\n",
            "Epoch 8/10\n",
            "20000/20000 [==============================] - 105s - loss: 0.1502 - acc: 0.9503 - val_loss: 0.3890 - val_acc: 0.8588\n",
            "Epoch 9/10\n",
            "20000/20000 [==============================] - 105s - loss: 0.1369 - acc: 0.9520 - val_loss: 0.3626 - val_acc: 0.8768\n",
            "Epoch 10/10\n",
            "20000/20000 [==============================] - 105s - loss: 0.1249 - acc: 0.9579 - val_loss: 0.4639 - val_acc: 0.8566\n"
          ],
          "name": "stdout"
        }
      ]
    },
    {
      "cell_type": "markdown",
      "metadata": {
        "id": "ITotyTpMsBUd"
      },
      "source": [
        "\n",
        "We get near-identical performance as the chronological-order LSTM we tried in the previous section.\n",
        "\n",
        "Thus, remarkably, on such a text dataset, reversed-order processing works just as well as chronological processing, confirming our \n",
        "hypothesis that, albeit word order *does* matter in understanding language, *which* order you use isn't crucial. Importantly, a RNN trained \n",
        "on reversed sequences will learn different representations than one trained on the original sequences, in much the same way that you would \n",
        "have quite different mental models if time flowed backwards in the real world -- if you lived a life where you died on your first day and \n",
        "you were born on your last day. In machine learning, representations that are *different* yet *useful* are always worth exploiting, and the \n",
        "more they differ the better: they offer a new angle from which to look at your data, capturing aspects of the data that were missed by other \n",
        "approaches, and thus they can allow to boost performance on a task. This is the intuition behind \"ensembling\", a concept that we will \n",
        "introduce in the next chapter.\n",
        "\n",
        "A bidirectional RNN exploits this idea to improve upon the performance of chronological-order RNNs: it looks at its inputs sequence both \n",
        "ways, obtaining potentially richer representations and capturing patterns that may have been missed by the chronological-order version alone."
      ]
    },
    {
      "cell_type": "markdown",
      "metadata": {
        "id": "hODPSTJysBUe"
      },
      "source": [
        "![bidirectional rnn](https://s3.amazonaws.com/book.keras.io/img/ch6/bidirectional_rnn.png)"
      ]
    },
    {
      "cell_type": "markdown",
      "metadata": {
        "id": "ppsSi140sBUf"
      },
      "source": [
        "To instantiate a bidirectional RNN in Keras, one would use the `Bidirectional` layer, which takes as first argument a recurrent layer \n",
        "instance. `Bidirectional` will create a second, separate instance of this recurrent layer, and will use one instance for processing the \n",
        "input sequences in chronological order and the other instance for processing the input sequences in reversed order. Let's try it on the \n",
        "IMDB sentiment analysis task:"
      ]
    },
    {
      "cell_type": "code",
      "metadata": {
        "id": "tlkXzVsmsBUg"
      },
      "source": [
        "from keras import backend as K\n",
        "K.clear_session()"
      ],
      "execution_count": null,
      "outputs": []
    },
    {
      "cell_type": "code",
      "metadata": {
        "id": "kUWKmGpxsBUj",
        "outputId": "1f5ee380-0039-4208-a496-5c82e789f589"
      },
      "source": [
        "model = Sequential()\n",
        "model.add(layers.Embedding(max_features, 32))\n",
        "model.add(layers.Bidirectional(layers.LSTM(32)))\n",
        "model.add(layers.Dense(1, activation='sigmoid'))\n",
        "\n",
        "model.compile(optimizer='rmsprop', loss='binary_crossentropy', metrics=['acc'])\n",
        "history = model.fit(x_train, y_train, epochs=10, batch_size=128, validation_split=0.2)"
      ],
      "execution_count": null,
      "outputs": [
        {
          "output_type": "stream",
          "text": [
            "Train on 20000 samples, validate on 5000 samples\n",
            "Epoch 1/10\n",
            "20000/20000 [==============================] - 214s - loss: 0.5994 - acc: 0.6865 - val_loss: 0.4722 - val_acc: 0.8090\n",
            "Epoch 2/10\n",
            "20000/20000 [==============================] - 213s - loss: 0.3673 - acc: 0.8543 - val_loss: 0.3769 - val_acc: 0.8448\n",
            "Epoch 3/10\n",
            "20000/20000 [==============================] - 213s - loss: 0.2743 - acc: 0.8972 - val_loss: 0.3196 - val_acc: 0.8688\n",
            "Epoch 4/10\n",
            "20000/20000 [==============================] - 211s - loss: 0.2310 - acc: 0.9150 - val_loss: 0.2972 - val_acc: 0.8856\n",
            "Epoch 5/10\n",
            "20000/20000 [==============================] - 211s - loss: 0.2009 - acc: 0.9261 - val_loss: 0.4461 - val_acc: 0.8514\n",
            "Epoch 6/10\n",
            "20000/20000 [==============================] - 210s - loss: 0.1912 - acc: 0.9339 - val_loss: 0.3636 - val_acc: 0.8640\n",
            "Epoch 7/10\n",
            "20000/20000 [==============================] - 209s - loss: 0.1670 - acc: 0.9423 - val_loss: 0.3476 - val_acc: 0.8580\n",
            "Epoch 8/10\n",
            "20000/20000 [==============================] - 210s - loss: 0.1523 - acc: 0.9469 - val_loss: 0.3887 - val_acc: 0.8830\n",
            "Epoch 9/10\n",
            "20000/20000 [==============================] - 209s - loss: 0.1431 - acc: 0.9506 - val_loss: 0.3781 - val_acc: 0.8810\n",
            "Epoch 10/10\n",
            "20000/20000 [==============================] - 209s - loss: 0.1366 - acc: 0.9521 - val_loss: 0.3713 - val_acc: 0.8792\n"
          ],
          "name": "stdout"
        }
      ]
    },
    {
      "cell_type": "markdown",
      "metadata": {
        "id": "Z_B_ESUgsBUm"
      },
      "source": [
        "It performs slightly better than the regular LSTM we tried in the previous section, going above 88% validation accuracy. It also seems to \n",
        "overfit faster, which is unsurprising since a bidirectional layer has twice more parameters than a chronological LSTM. With some \n",
        "regularization, the bidirectional approach would likely be a strong performer on this task.\n",
        "\n",
        "Now let's try the same approach on the weather prediction task:"
      ]
    },
    {
      "cell_type": "code",
      "metadata": {
        "id": "VzfO-TKTsBUn",
        "outputId": "f166fc21-6213-4639-9459-3a375680d26e"
      },
      "source": [
        "from keras.models import Sequential\n",
        "from keras import layers\n",
        "from keras.optimizers import RMSprop\n",
        "\n",
        "model = Sequential()\n",
        "model.add(layers.Bidirectional(\n",
        "    layers.GRU(32), input_shape=(None, float_data.shape[-1])))\n",
        "model.add(layers.Dense(1))\n",
        "\n",
        "model.compile(optimizer=RMSprop(), loss='mae')\n",
        "history = model.fit_generator(train_gen,\n",
        "                              steps_per_epoch=500,\n",
        "                              epochs=40,\n",
        "                              validation_data=val_gen,\n",
        "                              validation_steps=val_steps)"
      ],
      "execution_count": null,
      "outputs": [
        {
          "output_type": "stream",
          "text": [
            "Epoch 1/40\n",
            "500/500 [==============================] - 325s - loss: 0.3029 - val_loss: 0.2660\n",
            "Epoch 2/40\n",
            "500/500 [==============================] - 324s - loss: 0.2751 - val_loss: 0.2660\n",
            "Epoch 3/40\n",
            "500/500 [==============================] - 326s - loss: 0.2668 - val_loss: 0.2628\n",
            "Epoch 4/40\n",
            "500/500 [==============================] - 326s - loss: 0.2594 - val_loss: 0.2615\n",
            "Epoch 5/40\n",
            "500/500 [==============================] - 324s - loss: 0.2532 - val_loss: 0.2684\n",
            "Epoch 6/40\n",
            "500/500 [==============================] - 324s - loss: 0.2442 - val_loss: 0.2674\n",
            "Epoch 7/40\n",
            "500/500 [==============================] - 324s - loss: 0.2405 - val_loss: 0.2700\n",
            "Epoch 8/40\n",
            "500/500 [==============================] - 324s - loss: 0.2343 - val_loss: 0.2782\n",
            "Epoch 9/40\n",
            "500/500 [==============================] - 324s - loss: 0.2293 - val_loss: 0.2778\n",
            "Epoch 10/40\n",
            "500/500 [==============================] - 324s - loss: 0.2233 - val_loss: 0.2813\n",
            "Epoch 11/40\n",
            "500/500 [==============================] - 324s - loss: 0.2167 - val_loss: 0.2978\n",
            "Epoch 12/40\n",
            "500/500 [==============================] - 324s - loss: 0.2116 - val_loss: 0.2984\n",
            "Epoch 13/40\n",
            "500/500 [==============================] - 324s - loss: 0.2061 - val_loss: 0.2920\n",
            "Epoch 14/40\n",
            "500/500 [==============================] - 323s - loss: 0.2008 - val_loss: 0.3016\n",
            "Epoch 15/40\n",
            "500/500 [==============================] - 324s - loss: 0.1952 - val_loss: 0.2985\n",
            "Epoch 16/40\n",
            "500/500 [==============================] - 324s - loss: 0.1915 - val_loss: 0.3029\n",
            "Epoch 17/40\n",
            "500/500 [==============================] - 323s - loss: 0.1862 - val_loss: 0.3127\n",
            "Epoch 18/40\n",
            "500/500 [==============================] - 324s - loss: 0.1821 - val_loss: 0.3079\n",
            "Epoch 19/40\n",
            "500/500 [==============================] - 324s - loss: 0.1772 - val_loss: 0.3116\n",
            "Epoch 20/40\n",
            "500/500 [==============================] - 323s - loss: 0.1735 - val_loss: 0.3151\n",
            "Epoch 21/40\n",
            "500/500 [==============================] - 323s - loss: 0.1705 - val_loss: 0.3208\n",
            "Epoch 22/40\n",
            "500/500 [==============================] - 324s - loss: 0.1664 - val_loss: 0.3345\n",
            "Epoch 23/40\n",
            "500/500 [==============================] - 323s - loss: 0.1631 - val_loss: 0.3162\n",
            "Epoch 24/40\n",
            "500/500 [==============================] - 324s - loss: 0.1604 - val_loss: 0.3141\n",
            "Epoch 25/40\n",
            "500/500 [==============================] - 324s - loss: 0.1572 - val_loss: 0.3173\n",
            "Epoch 26/40\n",
            "500/500 [==============================] - 325s - loss: 0.1559 - val_loss: 0.3156\n",
            "Epoch 27/40\n",
            "500/500 [==============================] - 324s - loss: 0.1530 - val_loss: 0.3227\n",
            "Epoch 28/40\n",
            "500/500 [==============================] - 324s - loss: 0.1521 - val_loss: 0.3288\n",
            "Epoch 29/40\n",
            "500/500 [==============================] - 325s - loss: 0.1496 - val_loss: 0.3264\n",
            "Epoch 30/40\n",
            "500/500 [==============================] - 324s - loss: 0.1481 - val_loss: 0.3266\n",
            "Epoch 31/40\n",
            "500/500 [==============================] - 323s - loss: 0.1456 - val_loss: 0.3241\n",
            "Epoch 32/40\n",
            "500/500 [==============================] - 323s - loss: 0.1436 - val_loss: 0.3293\n",
            "Epoch 33/40\n",
            "500/500 [==============================] - 324s - loss: 0.1426 - val_loss: 0.3301\n",
            "Epoch 34/40\n",
            "500/500 [==============================] - 324s - loss: 0.1409 - val_loss: 0.3298\n",
            "Epoch 35/40\n",
            "500/500 [==============================] - 324s - loss: 0.1399 - val_loss: 0.3372\n",
            "Epoch 36/40\n",
            "500/500 [==============================] - 323s - loss: 0.1387 - val_loss: 0.3304\n",
            "Epoch 37/40\n",
            "500/500 [==============================] - 324s - loss: 0.1388 - val_loss: 0.3324\n",
            "Epoch 38/40\n",
            "500/500 [==============================] - 324s - loss: 0.1362 - val_loss: 0.3317\n",
            "Epoch 39/40\n",
            "500/500 [==============================] - 323s - loss: 0.1342 - val_loss: 0.3319\n",
            "Epoch 40/40\n",
            "500/500 [==============================] - 324s - loss: 0.1350 - val_loss: 0.3289\n"
          ],
          "name": "stdout"
        }
      ]
    },
    {
      "cell_type": "markdown",
      "metadata": {
        "id": "VBOusfZksBUq"
      },
      "source": [
        "\n",
        "It performs about as well as the regular GRU layer. It's easy to understand why: all of the predictive capacity must be coming from the \n",
        "chronological half of the network, since the anti-chronological half is known to be severely underperforming on this task (again, because \n",
        "the recent past matters much more than the distant past in this case)."
      ]
    },
    {
      "cell_type": "markdown",
      "metadata": {
        "id": "yoKhBZqxsBUq"
      },
      "source": [
        "\n",
        "## Going even further\n",
        "\n",
        "At this stage, there are still many other things you could try in order to improve performance on our weather forecasting problem:\n",
        "\n",
        "* Adjust the number of units in each recurrent layer in the stacked setup. Our current choices are largely arbitrary and thus likely \n",
        "suboptimal.\n",
        "* Adjust the learning rate used by our `RMSprop` optimizer.\n",
        "* Try using `LSTM` layers instead of `GRU` layers.\n",
        "* Try using a bigger densely-connected regressor on top of the recurrent layers, i.e. a bigger `Dense` layer or even a stack of `Dense` \n",
        "layers.\n",
        "* Don't forget to eventually run the best performing models (in terms of validation MAE) on the test set! Least you start developing \n",
        "architectures that are overfitting to the validation set.   \n",
        "\n",
        "As usual: deep learning is more an art than a science, and while we can provide guidelines as to what is likely to work or not work on a \n",
        "given problem, ultimately every problem is unique and you will have to try and evaluate different strategies empirically. There is \n",
        "currently no theory that will tell you in advance precisely what you should do to optimally solve a problem. You must try and iterate.\n",
        "\n",
        "\n",
        "## Wrapping up\n",
        "\n",
        "Here's what you should take away from this section:\n",
        "\n",
        "* As you first learned in Chapter 4, when approaching a new problem, \n",
        "it is good to first establish common sense baselines for your metric of choice. If you don't have a \n",
        "baseline to beat, you can't tell if you are making any real progress.\n",
        "* Try simple models before expensive ones, to justify the additional expense. Sometimes a simple model will turn out to be your best option.\n",
        "* On data where temporal ordering matters, recurrent networks are a great fit and easily outperform models that first flatten the temporal \n",
        "data.\n",
        "* To use dropout with recurrent networks, one should use a time-constant dropout mask and recurrent dropout mask. This is built into Keras \n",
        "recurrent layers, so all you have to do is use the `dropout` and `recurrent_dropout` arguments of recurrent layers.\n",
        "* Stacked RNNs provide more representational power than a single RNN layer. They are also much more expensive, and thus not always worth it. \n",
        "While they offer clear gains on complex problems (e.g. machine translation), they might not always be relevant to smaller, simpler problems.\n",
        "* Bidirectional RNNs, which look at a sequence both ways, are very useful on natural language processing problems. However, they will not \n",
        "be strong performers on sequence data where the recent past is much more informative than the beginning of the sequence.\n",
        "\n",
        "Note there are two important concepts that we will not cover in detail here: recurrent \"attention\", and sequence masking. Both tend to be \n",
        "especially relevant for natural language processing, and are not particularly applicable to our temperature forecasting problem. We will \n",
        "leave them for future study outside of this book."
      ]
    },
    {
      "cell_type": "markdown",
      "metadata": {
        "id": "RZUMMczed_Wq"
      },
      "source": [
        "## Part 2: Keras advanced API\n",
        "\n",
        "\n",
        "\n",
        "\n"
      ]
    },
    {
      "cell_type": "code",
      "metadata": {
        "id": "M84bA_TZke4T"
      },
      "source": [
        "from keras import layers\n",
        "from keras import models"
      ],
      "execution_count": 1,
      "outputs": []
    },
    {
      "cell_type": "code",
      "metadata": {
        "id": "kA9hvWuVeeFp",
        "colab": {
          "base_uri": "https://localhost:8080/"
        },
        "outputId": "92bf6eec-697e-4d92-c154-fb186986e1d1"
      },
      "source": [
        "# Load CIFAR10 data\n",
        "from keras.datasets import cifar10\n",
        "(X_train, y_train), (X_test, y_test) = cifar10.load_data()\n"
      ],
      "execution_count": 2,
      "outputs": [
        {
          "output_type": "stream",
          "text": [
            "Downloading data from https://www.cs.toronto.edu/~kriz/cifar-10-python.tar.gz\n",
            "170500096/170498071 [==============================] - 4s 0us/step\n"
          ],
          "name": "stdout"
        }
      ]
    },
    {
      "cell_type": "code",
      "metadata": {
        "colab": {
          "base_uri": "https://localhost:8080/"
        },
        "id": "4kbDPRJL5JPy",
        "outputId": "f3012944-f646-4e98-f8f3-80a7a31e5303"
      },
      "source": [
        "print(X_train.shape)\n",
        "print(y_train.shape)\n",
        "print(X_test.shape)\n",
        "print(y_test.shape)"
      ],
      "execution_count": 3,
      "outputs": [
        {
          "output_type": "stream",
          "text": [
            "(50000, 32, 32, 3)\n",
            "(50000, 1)\n",
            "(10000, 32, 32, 3)\n",
            "(10000, 1)\n"
          ],
          "name": "stdout"
        }
      ]
    },
    {
      "cell_type": "code",
      "metadata": {
        "id": "MIpS7He64zBz"
      },
      "source": [
        "# Reshaping the data\n",
        "X_train = X_train.astype('float32') / 255\n",
        "X_test = X_test.astype('float32') / 255"
      ],
      "execution_count": 4,
      "outputs": []
    },
    {
      "cell_type": "code",
      "metadata": {
        "id": "xid4wYGZ6YPw"
      },
      "source": [
        "# One hot encoding for the class element of each sample.\n",
        "from keras.utils import to_categorical\n",
        "y_train = to_categorical(y_train)\n",
        "y_test = to_categorical(y_test)"
      ],
      "execution_count": 5,
      "outputs": []
    },
    {
      "cell_type": "code",
      "metadata": {
        "colab": {
          "base_uri": "https://localhost:8080/"
        },
        "id": "bnwEhaid6pyP",
        "outputId": "0fdcd13b-5f42-41da-bea6-38c8e16450a4"
      },
      "source": [
        "#  Validation set. We set apart 10000 samples in our training data\n",
        "X_val = X_train[:10000]\n",
        "partial_X_train = X_train[10000:]\n",
        "\n",
        "y_val = y_train[:10000]\n",
        "partial_y_train = y_train[10000:]\n",
        "# So..\n",
        "train_data = (partial_X_train, partial_y_train) \n",
        "# and..\n",
        "validation_data=(X_val, y_val)\n",
        "# Also..\n",
        "test_data = (X_test, y_test)\n",
        "\n",
        "print(partial_X_train.shape)\n",
        "print(X_val.shape)\n",
        "print(X_test.shape)\n",
        "print('')\n",
        "print(partial_y_train.shape)\n",
        "print(y_val.shape)\n",
        "print(y_test.shape)"
      ],
      "execution_count": 15,
      "outputs": [
        {
          "output_type": "stream",
          "text": [
            "(40000, 32, 32, 3)\n",
            "(10000, 32, 32, 3)\n",
            "(10000, 32, 32, 3)\n",
            "\n",
            "(40000, 10)\n",
            "(10000, 10)\n",
            "(10000, 10)\n"
          ],
          "name": "stdout"
        }
      ]
    },
    {
      "cell_type": "markdown",
      "metadata": {
        "id": "Y5LrvLqY9eGy"
      },
      "source": [
        "Archtecture 1: Let's start with the larger convnet from part 1 of homework 2 which was out best model with an accuracy of 69.92%"
      ]
    },
    {
      "cell_type": "code",
      "metadata": {
        "colab": {
          "base_uri": "https://localhost:8080/"
        },
        "id": "JO0zR4pV948S",
        "outputId": "d1544b65-58e3-45bd-de0c-327b30d6eba9"
      },
      "source": [
        "# Our covolution network\n",
        "from keras import layers\n",
        "from keras import models\n",
        "model = models.Sequential()\n",
        "model.add(layers.Conv2D(32, (3, 3), activation='relu', input_shape=(32, 32, 3)))\n",
        "model.add(layers.MaxPooling2D((2, 2)))\n",
        "model.add(layers.Conv2D(64, (3, 3), activation='relu'))\n",
        "model.add(layers.MaxPooling2D((2, 2)))\n",
        "model.add(layers.Conv2D(128, (3, 3), activation='relu'))\n",
        "model.add(layers.MaxPooling2D((2, 2)))\n",
        "\n",
        "\n",
        "# The densely-connected classifier network\n",
        "model.add(layers.Flatten())\n",
        "# model.add(layers.Dense(128, activation='relu'))\n",
        "model.add(layers.Dense(64, activation='relu'))\n",
        "model.add(layers.Dense(10, activation='softmax'))\n",
        "\n",
        "# Model summary to see how the dimensions of the feature maps change with \n",
        "# every successive layer:\n",
        "model.summary()\n",
        "\n",
        "# The compilation step\n",
        "from keras import optimizers\n",
        "model.compile(optimizer='rmsprop', loss='categorical_crossentropy', \n",
        "              metrics=['accuracy'])\n",
        "\n",
        "# Lastly we shall call the fit method of our model for the network to start \n",
        "# iterating on the training data in mini-batches of 64 samples, 5 times over \n",
        "# all the training data (5 epochs).\n",
        "history = model.fit(partial_X_train, partial_y_train, epochs=10, batch_size=64, \n",
        "validation_data=validation_data)\n",
        "\n",
        "# Evaluation of the model\n",
        "scores = model.evaluate(X_val, y_val, verbose=0)\n",
        "print(\"Accuracy: %.2f%%\" % (scores[1]*100))\n",
        "\n",
        "test_scores = model.evaluate(X_test, y_test, verbose=0)\n",
        "print(\"Test accuracy: %.2f%%\" % (test_scores[1]*100))"
      ],
      "execution_count": 7,
      "outputs": [
        {
          "output_type": "stream",
          "text": [
            "Model: \"sequential\"\n",
            "_________________________________________________________________\n",
            "Layer (type)                 Output Shape              Param #   \n",
            "=================================================================\n",
            "conv2d (Conv2D)              (None, 30, 30, 32)        896       \n",
            "_________________________________________________________________\n",
            "max_pooling2d (MaxPooling2D) (None, 15, 15, 32)        0         \n",
            "_________________________________________________________________\n",
            "conv2d_1 (Conv2D)            (None, 13, 13, 64)        18496     \n",
            "_________________________________________________________________\n",
            "max_pooling2d_1 (MaxPooling2 (None, 6, 6, 64)          0         \n",
            "_________________________________________________________________\n",
            "conv2d_2 (Conv2D)            (None, 4, 4, 128)         73856     \n",
            "_________________________________________________________________\n",
            "max_pooling2d_2 (MaxPooling2 (None, 2, 2, 128)         0         \n",
            "_________________________________________________________________\n",
            "flatten (Flatten)            (None, 512)               0         \n",
            "_________________________________________________________________\n",
            "dense (Dense)                (None, 64)                32832     \n",
            "_________________________________________________________________\n",
            "dense_1 (Dense)              (None, 10)                650       \n",
            "=================================================================\n",
            "Total params: 126,730\n",
            "Trainable params: 126,730\n",
            "Non-trainable params: 0\n",
            "_________________________________________________________________\n",
            "Epoch 1/10\n",
            "625/625 [==============================] - 11s 5ms/step - loss: 1.9132 - accuracy: 0.2956 - val_loss: 1.4548 - val_accuracy: 0.4745\n",
            "Epoch 2/10\n",
            "625/625 [==============================] - 3s 4ms/step - loss: 1.3805 - accuracy: 0.5102 - val_loss: 1.1935 - val_accuracy: 0.5877\n",
            "Epoch 3/10\n",
            "625/625 [==============================] - 3s 4ms/step - loss: 1.1505 - accuracy: 0.5953 - val_loss: 1.0561 - val_accuracy: 0.6317\n",
            "Epoch 4/10\n",
            "625/625 [==============================] - 3s 4ms/step - loss: 1.0053 - accuracy: 0.6493 - val_loss: 0.9844 - val_accuracy: 0.6534\n",
            "Epoch 5/10\n",
            "625/625 [==============================] - 3s 4ms/step - loss: 0.8881 - accuracy: 0.6918 - val_loss: 0.9546 - val_accuracy: 0.6705\n",
            "Epoch 6/10\n",
            "625/625 [==============================] - 3s 4ms/step - loss: 0.8092 - accuracy: 0.7209 - val_loss: 0.8853 - val_accuracy: 0.6959\n",
            "Epoch 7/10\n",
            "625/625 [==============================] - 3s 4ms/step - loss: 0.7356 - accuracy: 0.7483 - val_loss: 0.9882 - val_accuracy: 0.6715\n",
            "Epoch 8/10\n",
            "625/625 [==============================] - 3s 4ms/step - loss: 0.6682 - accuracy: 0.7688 - val_loss: 0.8429 - val_accuracy: 0.7154\n",
            "Epoch 9/10\n",
            "625/625 [==============================] - 3s 4ms/step - loss: 0.6030 - accuracy: 0.7911 - val_loss: 0.8607 - val_accuracy: 0.7124\n",
            "Epoch 10/10\n",
            "625/625 [==============================] - 3s 4ms/step - loss: 0.5525 - accuracy: 0.8071 - val_loss: 0.9066 - val_accuracy: 0.7042\n",
            "Accuracy: 70.42%\n",
            "Test accuracy: 69.79%\n"
          ],
          "name": "stdout"
        }
      ]
    },
    {
      "cell_type": "markdown",
      "metadata": {
        "id": "PcetTRPvNkk-"
      },
      "source": [
        "Since we are to apply some visualization tools like Keras callbacks so as to monitor models during training and several other best practices, these aren’t possible when using only the Sequential model class in\n",
        "Keras. We shall thus switch to a far more general and flexible Keras functional API. \n",
        "Since the model above does moderately well, we will start with it's fuctional equivalent from which we shall consider other archtectures. Let's start by importing necessary packages:\n",
        "\n"
      ]
    },
    {
      "cell_type": "code",
      "metadata": {
        "id": "ksZ97SlzL_rY"
      },
      "source": [
        "keras.callbacks.ModelCheckpoint\n",
        "keras.callbacks.EarlyStopping\n",
        "keras.callbacks.LearningRateScheduler\n",
        "keras.callbacks.ReduceLROnPlateau\n",
        "keras.callbacks.CSVLogger\n",
        "from sklearn import metrics\n",
        "from keras.models import Sequential, Model\n",
        "from keras import layers\n",
        "from keras import Input"
      ],
      "execution_count": 13,
      "outputs": []
    },
    {
      "cell_type": "markdown",
      "metadata": {
        "id": "jbivuZkMefJT"
      },
      "source": [
        "**Archtecture 2**: API functional quivalent of the best sequential model from homework 2"
      ]
    },
    {
      "cell_type": "code",
      "metadata": {
        "id": "eStCRHtAbYHr",
        "colab": {
          "base_uri": "https://localhost:8080/"
        },
        "outputId": "f4621b4d-83e5-4d4a-a247-48e518dfae6d"
      },
      "source": [
        "input_tensor = Input(shape=(32,32,3))\n",
        "x = layers.Conv2D(32, (3, 3), activation='relu')(input_tensor)\n",
        "x = layers.MaxPooling2D((2, 2))(x)\n",
        "x = layers.Conv2D(64, (3, 3), activation='relu')(x)\n",
        "x = layers.MaxPooling2D((2, 2))(x)\n",
        "x = layers.Conv2D(128, (3, 3), activation='relu')(x)\n",
        "x = layers.MaxPooling2D((2, 2))(x)\n",
        "x = layers.Flatten()(x)\n",
        "x = layers.Dense(64, activation='relu')(x)\n",
        "output_tensor = layers.Dense(10, activation='softmax')(x)\n",
        "model2 = Model(input_tensor, output_tensor)\n",
        "model2.summary()\n",
        "model2.compile(optimizer='rmsprop',\n",
        "              loss='categorical_crossentropy',\n",
        "              metrics=['accuracy'])\n",
        "model2.fit(partial_X_train, partial_y_train,\n",
        "                    epochs=10,\n",
        "                    batch_size=64,\n",
        "                    validation_data=(X_val, y_val))\n",
        "# Evaluation of the model\n",
        "scores = model2.evaluate(X_val, y_val, verbose=0)\n",
        "print(\"Accuracy: %.2f%%\" % (scores[1]*100))"
      ],
      "execution_count": 43,
      "outputs": [
        {
          "output_type": "stream",
          "text": [
            "Model: \"model_21\"\n",
            "_________________________________________________________________\n",
            "Layer (type)                 Output Shape              Param #   \n",
            "=================================================================\n",
            "input_23 (InputLayer)        [(None, 32, 32, 3)]       0         \n",
            "_________________________________________________________________\n",
            "conv2d_69 (Conv2D)           (None, 30, 30, 32)        896       \n",
            "_________________________________________________________________\n",
            "max_pooling2d_69 (MaxPooling (None, 15, 15, 32)        0         \n",
            "_________________________________________________________________\n",
            "conv2d_70 (Conv2D)           (None, 13, 13, 64)        18496     \n",
            "_________________________________________________________________\n",
            "max_pooling2d_70 (MaxPooling (None, 6, 6, 64)          0         \n",
            "_________________________________________________________________\n",
            "conv2d_71 (Conv2D)           (None, 4, 4, 128)         73856     \n",
            "_________________________________________________________________\n",
            "max_pooling2d_71 (MaxPooling (None, 2, 2, 128)         0         \n",
            "_________________________________________________________________\n",
            "flatten_22 (Flatten)         (None, 512)               0         \n",
            "_________________________________________________________________\n",
            "dense_62 (Dense)             (None, 64)                32832     \n",
            "_________________________________________________________________\n",
            "dense_63 (Dense)             (None, 10)                650       \n",
            "=================================================================\n",
            "Total params: 126,730\n",
            "Trainable params: 126,730\n",
            "Non-trainable params: 0\n",
            "_________________________________________________________________\n",
            "Epoch 1/10\n",
            "625/625 [==============================] - 3s 5ms/step - loss: 1.9155 - accuracy: 0.2916 - val_loss: 1.4629 - val_accuracy: 0.4735\n",
            "Epoch 2/10\n",
            "625/625 [==============================] - 3s 4ms/step - loss: 1.3682 - accuracy: 0.5134 - val_loss: 1.2113 - val_accuracy: 0.5638\n",
            "Epoch 3/10\n",
            "625/625 [==============================] - 3s 4ms/step - loss: 1.1500 - accuracy: 0.5942 - val_loss: 1.0732 - val_accuracy: 0.6262\n",
            "Epoch 4/10\n",
            "625/625 [==============================] - 3s 5ms/step - loss: 1.0034 - accuracy: 0.6509 - val_loss: 0.9570 - val_accuracy: 0.6669\n",
            "Epoch 5/10\n",
            "625/625 [==============================] - 3s 4ms/step - loss: 0.9062 - accuracy: 0.6849 - val_loss: 0.9172 - val_accuracy: 0.6789\n",
            "Epoch 6/10\n",
            "625/625 [==============================] - 3s 4ms/step - loss: 0.8160 - accuracy: 0.7155 - val_loss: 0.9663 - val_accuracy: 0.6684\n",
            "Epoch 7/10\n",
            "625/625 [==============================] - 3s 4ms/step - loss: 0.7407 - accuracy: 0.7441 - val_loss: 0.9232 - val_accuracy: 0.6875\n",
            "Epoch 8/10\n",
            "625/625 [==============================] - 3s 5ms/step - loss: 0.6686 - accuracy: 0.7655 - val_loss: 0.8822 - val_accuracy: 0.7028\n",
            "Epoch 9/10\n",
            "625/625 [==============================] - 3s 4ms/step - loss: 0.6099 - accuracy: 0.7922 - val_loss: 0.9878 - val_accuracy: 0.6772\n",
            "Epoch 10/10\n",
            "625/625 [==============================] - 3s 4ms/step - loss: 0.5579 - accuracy: 0.8052 - val_loss: 0.9015 - val_accuracy: 0.7022\n",
            "Accuracy: 70.22%\n"
          ],
          "name": "stdout"
        }
      ]
    },
    {
      "cell_type": "markdown",
      "metadata": {
        "id": "PMQ7CJn8N0tj"
      },
      "source": [
        "Quite a good performance, as good as the previous case. But let's try to improve it by trying the following model archtectures."
      ]
    },
    {
      "cell_type": "markdown",
      "metadata": {
        "id": "LZDH8uSzCIEz"
      },
      "source": [
        "**Archtecture 3**: Increasing on the number of dense layers and units therein. This \n",
        "network will probably have \n",
        " have statistical power on cifar-10 that is sufficient to solve the \n",
        "problem well. "
      ]
    },
    {
      "cell_type": "code",
      "metadata": {
        "id": "wz_q22YVmgtW",
        "colab": {
          "base_uri": "https://localhost:8080/"
        },
        "outputId": "71d225de-02fe-426e-b50d-d8fa98051b7f"
      },
      "source": [
        "input_tensor = Input(shape=(32,32,3))\n",
        "x = layers.Conv2D(32, (3, 3), activation='relu')(input_tensor)\n",
        "x = layers.MaxPooling2D((2, 2))(x)\n",
        "x = layers.Conv2D(64, (3, 3), activation='relu')(x)\n",
        "x = layers.MaxPooling2D((2, 2))(x)\n",
        "x = layers.Conv2D(128, (3, 3), activation='relu')(x)\n",
        "x = layers.MaxPooling2D((2, 2))(x)\n",
        "x = layers.Flatten()(x)\n",
        "x = layers.Dense(64, activation='relu')(x)\n",
        "x = layers.Dense(32, activation='relu')(x)\n",
        "output_tensor = layers.Dense(10, activation='softmax')(x)\n",
        "model3 = Model(input_tensor, output_tensor)\n",
        "model3.summary()\n",
        "model3.compile(optimizer='rmsprop',\n",
        "              loss='categorical_crossentropy',\n",
        "              metrics=['accuracy'])\n",
        "model3.fit(partial_X_train, partial_y_train,\n",
        "                    epochs=10,\n",
        "                    batch_size=64,\n",
        "                    validation_data=(X_val, y_val))\n",
        "# Evaluation of the model\n",
        "scores = model3.evaluate(X_val, y_val, verbose=0)\n",
        "print(\"Accuracy: %.2f%%\" % (scores[1]*100))"
      ],
      "execution_count": 44,
      "outputs": [
        {
          "output_type": "stream",
          "text": [
            "Model: \"model_22\"\n",
            "_________________________________________________________________\n",
            "Layer (type)                 Output Shape              Param #   \n",
            "=================================================================\n",
            "input_24 (InputLayer)        [(None, 32, 32, 3)]       0         \n",
            "_________________________________________________________________\n",
            "conv2d_72 (Conv2D)           (None, 30, 30, 32)        896       \n",
            "_________________________________________________________________\n",
            "max_pooling2d_72 (MaxPooling (None, 15, 15, 32)        0         \n",
            "_________________________________________________________________\n",
            "conv2d_73 (Conv2D)           (None, 13, 13, 64)        18496     \n",
            "_________________________________________________________________\n",
            "max_pooling2d_73 (MaxPooling (None, 6, 6, 64)          0         \n",
            "_________________________________________________________________\n",
            "conv2d_74 (Conv2D)           (None, 4, 4, 128)         73856     \n",
            "_________________________________________________________________\n",
            "max_pooling2d_74 (MaxPooling (None, 2, 2, 128)         0         \n",
            "_________________________________________________________________\n",
            "flatten_23 (Flatten)         (None, 512)               0         \n",
            "_________________________________________________________________\n",
            "dense_64 (Dense)             (None, 64)                32832     \n",
            "_________________________________________________________________\n",
            "dense_65 (Dense)             (None, 32)                2080      \n",
            "_________________________________________________________________\n",
            "dense_66 (Dense)             (None, 10)                330       \n",
            "=================================================================\n",
            "Total params: 128,490\n",
            "Trainable params: 128,490\n",
            "Non-trainable params: 0\n",
            "_________________________________________________________________\n",
            "Epoch 1/10\n",
            "625/625 [==============================] - 4s 5ms/step - loss: 1.9592 - accuracy: 0.2743 - val_loss: 1.4228 - val_accuracy: 0.4829\n",
            "Epoch 2/10\n",
            "625/625 [==============================] - 3s 5ms/step - loss: 1.4250 - accuracy: 0.4828 - val_loss: 1.1907 - val_accuracy: 0.5778\n",
            "Epoch 3/10\n",
            "625/625 [==============================] - 3s 4ms/step - loss: 1.1975 - accuracy: 0.5778 - val_loss: 1.1219 - val_accuracy: 0.6153\n",
            "Epoch 4/10\n",
            "625/625 [==============================] - 3s 4ms/step - loss: 1.0585 - accuracy: 0.6285 - val_loss: 0.9722 - val_accuracy: 0.6548\n",
            "Epoch 5/10\n",
            "625/625 [==============================] - 3s 4ms/step - loss: 0.9379 - accuracy: 0.6668 - val_loss: 1.0271 - val_accuracy: 0.6431\n",
            "Epoch 6/10\n",
            "625/625 [==============================] - 3s 5ms/step - loss: 0.8487 - accuracy: 0.7037 - val_loss: 0.9384 - val_accuracy: 0.6749\n",
            "Epoch 7/10\n",
            "625/625 [==============================] - 3s 5ms/step - loss: 0.7556 - accuracy: 0.7379 - val_loss: 0.8746 - val_accuracy: 0.7033\n",
            "Epoch 8/10\n",
            "625/625 [==============================] - 3s 5ms/step - loss: 0.6736 - accuracy: 0.7652 - val_loss: 0.8789 - val_accuracy: 0.6999\n",
            "Epoch 9/10\n",
            "625/625 [==============================] - 3s 5ms/step - loss: 0.6127 - accuracy: 0.7881 - val_loss: 0.8745 - val_accuracy: 0.7041\n",
            "Epoch 10/10\n",
            "625/625 [==============================] - 3s 5ms/step - loss: 0.5558 - accuracy: 0.8078 - val_loss: 0.9331 - val_accuracy: 0.6988\n",
            "Accuracy: 69.88%\n"
          ],
          "name": "stdout"
        }
      ]
    },
    {
      "cell_type": "markdown",
      "metadata": {
        "id": "L6GZ6paROMmq"
      },
      "source": [
        "We observe a slight decrease in performance from the previous archtecture. So we so far stick to archtecture 2 which implies doing away with the extra dense layer."
      ]
    },
    {
      "cell_type": "markdown",
      "metadata": {
        "id": "frfCzBpBpeLG"
      },
      "source": [
        "**Archtecture 4**: Let's next try to increase on the number units in the one dense layer of archtecture 2, because if we need to classify data into a large number of categories, we should avoid\n",
        "creating information bottlenecks in your network due to intermediate layers that are too small."
      ]
    },
    {
      "cell_type": "code",
      "metadata": {
        "id": "aK5Z_OZBdYtG",
        "colab": {
          "base_uri": "https://localhost:8080/"
        },
        "outputId": "13ecd31a-7cd4-4220-c1f1-c6e422dcba54"
      },
      "source": [
        "input_tensor = Input(shape=(32,32,3))\n",
        "x = layers.Conv2D(32, (3, 3), activation='relu')(input_tensor)\n",
        "x = layers.MaxPooling2D((2, 2))(x)\n",
        "x = layers.Conv2D(64, (3, 3), activation='relu')(x)\n",
        "x = layers.MaxPooling2D((2, 2))(x)\n",
        "x = layers.Conv2D(128, (3, 3), activation='relu')(x)\n",
        "x = layers.MaxPooling2D((2, 2))(x)\n",
        "x = layers.Flatten()(x)\n",
        "x = layers.Dense(128, activation='relu')(x)\n",
        "output_tensor = layers.Dense(10, activation='softmax')(x)\n",
        "model4 = Model(input_tensor, output_tensor)\n",
        "model4.summary()\n",
        "model4.compile(optimizer='rmsprop',\n",
        "              loss='categorical_crossentropy',\n",
        "              metrics=['accuracy'])\n",
        "model4.fit(partial_X_train, partial_y_train,\n",
        "                    epochs=10,\n",
        "                    batch_size=64,\n",
        "                    validation_data=(X_val, y_val))\n",
        "# Evaluation of the model\n",
        "scores = model4.evaluate(X_val, y_val, verbose=0)\n",
        "print(\"Accuracy: %.2f%%\" % (scores[1]*100))"
      ],
      "execution_count": 45,
      "outputs": [
        {
          "output_type": "stream",
          "text": [
            "Model: \"model_23\"\n",
            "_________________________________________________________________\n",
            "Layer (type)                 Output Shape              Param #   \n",
            "=================================================================\n",
            "input_25 (InputLayer)        [(None, 32, 32, 3)]       0         \n",
            "_________________________________________________________________\n",
            "conv2d_75 (Conv2D)           (None, 30, 30, 32)        896       \n",
            "_________________________________________________________________\n",
            "max_pooling2d_75 (MaxPooling (None, 15, 15, 32)        0         \n",
            "_________________________________________________________________\n",
            "conv2d_76 (Conv2D)           (None, 13, 13, 64)        18496     \n",
            "_________________________________________________________________\n",
            "max_pooling2d_76 (MaxPooling (None, 6, 6, 64)          0         \n",
            "_________________________________________________________________\n",
            "conv2d_77 (Conv2D)           (None, 4, 4, 128)         73856     \n",
            "_________________________________________________________________\n",
            "max_pooling2d_77 (MaxPooling (None, 2, 2, 128)         0         \n",
            "_________________________________________________________________\n",
            "flatten_24 (Flatten)         (None, 512)               0         \n",
            "_________________________________________________________________\n",
            "dense_67 (Dense)             (None, 128)               65664     \n",
            "_________________________________________________________________\n",
            "dense_68 (Dense)             (None, 10)                1290      \n",
            "=================================================================\n",
            "Total params: 160,202\n",
            "Trainable params: 160,202\n",
            "Non-trainable params: 0\n",
            "_________________________________________________________________\n",
            "Epoch 1/10\n",
            "625/625 [==============================] - 3s 5ms/step - loss: 1.9090 - accuracy: 0.3021 - val_loss: 1.3644 - val_accuracy: 0.5135\n",
            "Epoch 2/10\n",
            "625/625 [==============================] - 3s 4ms/step - loss: 1.3332 - accuracy: 0.5265 - val_loss: 1.1936 - val_accuracy: 0.5709\n",
            "Epoch 3/10\n",
            "625/625 [==============================] - 3s 4ms/step - loss: 1.1123 - accuracy: 0.6113 - val_loss: 1.0394 - val_accuracy: 0.6372\n",
            "Epoch 4/10\n",
            "625/625 [==============================] - 3s 4ms/step - loss: 0.9523 - accuracy: 0.6662 - val_loss: 1.0046 - val_accuracy: 0.6470\n",
            "Epoch 5/10\n",
            "625/625 [==============================] - 3s 4ms/step - loss: 0.8519 - accuracy: 0.7019 - val_loss: 0.9854 - val_accuracy: 0.6623\n",
            "Epoch 6/10\n",
            "625/625 [==============================] - 3s 4ms/step - loss: 0.7694 - accuracy: 0.7329 - val_loss: 0.8762 - val_accuracy: 0.7009\n",
            "Epoch 7/10\n",
            "625/625 [==============================] - 3s 4ms/step - loss: 0.6816 - accuracy: 0.7630 - val_loss: 0.8627 - val_accuracy: 0.7111\n",
            "Epoch 8/10\n",
            "625/625 [==============================] - 3s 5ms/step - loss: 0.6160 - accuracy: 0.7847 - val_loss: 0.8500 - val_accuracy: 0.7131\n",
            "Epoch 9/10\n",
            "625/625 [==============================] - 3s 4ms/step - loss: 0.5495 - accuracy: 0.8072 - val_loss: 0.8688 - val_accuracy: 0.7180\n",
            "Epoch 10/10\n",
            "625/625 [==============================] - 3s 4ms/step - loss: 0.4958 - accuracy: 0.8259 - val_loss: 0.9194 - val_accuracy: 0.7095\n",
            "Accuracy: 70.95%\n"
          ],
          "name": "stdout"
        }
      ]
    },
    {
      "cell_type": "markdown",
      "metadata": {
        "id": "TUuBpInHOpP9"
      },
      "source": [
        "A slight improvement. We now take on archtecture 4 as our preferred model so far."
      ]
    },
    {
      "cell_type": "markdown",
      "metadata": {
        "id": "DatBOujEpa6v"
      },
      "source": [
        "**Arctecture 5**: What about a larger number of filters in convolution layers for our model to combined better low level features to many complex shapes. This enables a better distinguishing between classes"
      ]
    },
    {
      "cell_type": "code",
      "metadata": {
        "id": "J1ImSvRIfQOM",
        "colab": {
          "base_uri": "https://localhost:8080/"
        },
        "outputId": "1e6ce20d-2316-4fd5-f1af-7c977a68237a"
      },
      "source": [
        "input_tensor = Input(shape=(32,32,3))\n",
        "x = layers.Conv2D(65, (3, 3), activation='relu')(input_tensor)\n",
        "x = layers.MaxPooling2D((2, 2))(x)\n",
        "x = layers.Conv2D(128, (3, 3), activation='relu')(x)\n",
        "x = layers.MaxPooling2D((2, 2))(x)\n",
        "x = layers.Conv2D(256, (3, 3), activation='relu')(x)\n",
        "x = layers.MaxPooling2D((2, 2))(x)\n",
        "x = layers.Flatten()(x)\n",
        "x = layers.Dense(128, activation='relu')(x)\n",
        "output_tensor = layers.Dense(10, activation='softmax')(x)\n",
        "model5 = Model(input_tensor, output_tensor)\n",
        "model5.summary()\n",
        "model5.compile(optimizer='rmsprop',\n",
        "              loss='categorical_crossentropy',\n",
        "              metrics=['accuracy'])\n",
        "model5.fit(partial_X_train,\n",
        "                    partial_y_train,\n",
        "                    epochs=10,\n",
        "                    batch_size=64,\n",
        "                    validation_data=(X_val, y_val))\n",
        "# Evaluation of the model\n",
        "scores = model5.evaluate(X_val, y_val, verbose=0)\n",
        "print(\"Accuracy: %.2f%%\" % (scores[1]*100))"
      ],
      "execution_count": 47,
      "outputs": [
        {
          "output_type": "stream",
          "text": [
            "Model: \"model_25\"\n",
            "_________________________________________________________________\n",
            "Layer (type)                 Output Shape              Param #   \n",
            "=================================================================\n",
            "input_27 (InputLayer)        [(None, 32, 32, 3)]       0         \n",
            "_________________________________________________________________\n",
            "conv2d_81 (Conv2D)           (None, 30, 30, 65)        1820      \n",
            "_________________________________________________________________\n",
            "max_pooling2d_81 (MaxPooling (None, 15, 15, 65)        0         \n",
            "_________________________________________________________________\n",
            "conv2d_82 (Conv2D)           (None, 13, 13, 128)       75008     \n",
            "_________________________________________________________________\n",
            "max_pooling2d_82 (MaxPooling (None, 6, 6, 128)         0         \n",
            "_________________________________________________________________\n",
            "conv2d_83 (Conv2D)           (None, 4, 4, 256)         295168    \n",
            "_________________________________________________________________\n",
            "max_pooling2d_83 (MaxPooling (None, 2, 2, 256)         0         \n",
            "_________________________________________________________________\n",
            "flatten_26 (Flatten)         (None, 1024)              0         \n",
            "_________________________________________________________________\n",
            "dense_71 (Dense)             (None, 128)               131200    \n",
            "_________________________________________________________________\n",
            "dense_72 (Dense)             (None, 10)                1290      \n",
            "=================================================================\n",
            "Total params: 504,486\n",
            "Trainable params: 504,486\n",
            "Non-trainable params: 0\n",
            "_________________________________________________________________\n",
            "Epoch 1/10\n",
            "625/625 [==============================] - 5s 7ms/step - loss: 1.9054 - accuracy: 0.3015 - val_loss: 1.3235 - val_accuracy: 0.5305\n",
            "Epoch 2/10\n",
            "625/625 [==============================] - 4s 6ms/step - loss: 1.2441 - accuracy: 0.5666 - val_loss: 1.0414 - val_accuracy: 0.6317\n",
            "Epoch 3/10\n",
            "625/625 [==============================] - 4s 6ms/step - loss: 0.9837 - accuracy: 0.6599 - val_loss: 1.0205 - val_accuracy: 0.6464\n",
            "Epoch 4/10\n",
            "625/625 [==============================] - 4s 6ms/step - loss: 0.8153 - accuracy: 0.7169 - val_loss: 0.9421 - val_accuracy: 0.6763\n",
            "Epoch 5/10\n",
            "625/625 [==============================] - 4s 7ms/step - loss: 0.6789 - accuracy: 0.7655 - val_loss: 0.8310 - val_accuracy: 0.7162\n",
            "Epoch 6/10\n",
            "625/625 [==============================] - 4s 7ms/step - loss: 0.5661 - accuracy: 0.8072 - val_loss: 0.8149 - val_accuracy: 0.7225\n",
            "Epoch 7/10\n",
            "625/625 [==============================] - 4s 6ms/step - loss: 0.4644 - accuracy: 0.8404 - val_loss: 0.8617 - val_accuracy: 0.7270\n",
            "Epoch 8/10\n",
            "625/625 [==============================] - 4s 6ms/step - loss: 0.3776 - accuracy: 0.8703 - val_loss: 1.0407 - val_accuracy: 0.6961\n",
            "Epoch 9/10\n",
            "625/625 [==============================] - 4s 7ms/step - loss: 0.3010 - accuracy: 0.8956 - val_loss: 1.0044 - val_accuracy: 0.7318\n",
            "Epoch 10/10\n",
            "625/625 [==============================] - 4s 6ms/step - loss: 0.2377 - accuracy: 0.9166 - val_loss: 1.0269 - val_accuracy: 0.7332\n",
            "Accuracy: 73.32%\n"
          ],
          "name": "stdout"
        }
      ]
    },
    {
      "cell_type": "markdown",
      "metadata": {
        "id": "IMANgihlPMte"
      },
      "source": [
        "We still notice an improvement. So archtecture 5 is our best model so far."
      ]
    },
    {
      "cell_type": "markdown",
      "metadata": {
        "id": "dOZByDZDFhSx"
      },
      "source": [
        "Archtecture 6: Now in this best model so far, let's try to reduce on the batch size"
      ]
    },
    {
      "cell_type": "code",
      "metadata": {
        "id": "gPbFcZrqf1Rx",
        "colab": {
          "base_uri": "https://localhost:8080/"
        },
        "outputId": "fd28d416-ac2d-4557-d708-cc92c0959a77"
      },
      "source": [
        "input_tensor = Input(shape=(32,32,3))\n",
        "x = layers.Conv2D(65, (3, 3), activation='relu')(input_tensor)\n",
        "x = layers.MaxPooling2D((2, 2))(x)\n",
        "x = layers.Conv2D(128, (3, 3), activation='relu')(x)\n",
        "x = layers.MaxPooling2D((2, 2))(x)\n",
        "x = layers.Conv2D(256, (3, 3), activation='relu')(x)\n",
        "x = layers.MaxPooling2D((2, 2))(x)\n",
        "x = layers.Flatten()(x)\n",
        "x = layers.Dense(128, activation='relu')(x)\n",
        "output_tensor = layers.Dense(10, activation='softmax')(x)\n",
        "model6 = Model(input_tensor, output_tensor)\n",
        "model6.summary()\n",
        "model6.compile(optimizer='rmsprop',\n",
        "              loss='categorical_crossentropy',\n",
        "              metrics=['accuracy'])\n",
        "model6.fit(partial_X_train,\n",
        "                    partial_y_train,\n",
        "                    epochs=10,\n",
        "                    batch_size=32,\n",
        "                    validation_data=(X_val, y_val))\n",
        "# Evaluation of the model\n",
        "scores = model6.evaluate(X_val, y_val, verbose=0)\n",
        "print(\"Accuracy: %.2f%%\" % (scores[1]*100))"
      ],
      "execution_count": 48,
      "outputs": [
        {
          "output_type": "stream",
          "text": [
            "Model: \"model_26\"\n",
            "_________________________________________________________________\n",
            "Layer (type)                 Output Shape              Param #   \n",
            "=================================================================\n",
            "input_28 (InputLayer)        [(None, 32, 32, 3)]       0         \n",
            "_________________________________________________________________\n",
            "conv2d_84 (Conv2D)           (None, 30, 30, 65)        1820      \n",
            "_________________________________________________________________\n",
            "max_pooling2d_84 (MaxPooling (None, 15, 15, 65)        0         \n",
            "_________________________________________________________________\n",
            "conv2d_85 (Conv2D)           (None, 13, 13, 128)       75008     \n",
            "_________________________________________________________________\n",
            "max_pooling2d_85 (MaxPooling (None, 6, 6, 128)         0         \n",
            "_________________________________________________________________\n",
            "conv2d_86 (Conv2D)           (None, 4, 4, 256)         295168    \n",
            "_________________________________________________________________\n",
            "max_pooling2d_86 (MaxPooling (None, 2, 2, 256)         0         \n",
            "_________________________________________________________________\n",
            "flatten_27 (Flatten)         (None, 1024)              0         \n",
            "_________________________________________________________________\n",
            "dense_73 (Dense)             (None, 128)               131200    \n",
            "_________________________________________________________________\n",
            "dense_74 (Dense)             (None, 10)                1290      \n",
            "=================================================================\n",
            "Total params: 504,486\n",
            "Trainable params: 504,486\n",
            "Non-trainable params: 0\n",
            "_________________________________________________________________\n",
            "Epoch 1/10\n",
            "1250/1250 [==============================] - 7s 5ms/step - loss: 1.8020 - accuracy: 0.3384 - val_loss: 1.1587 - val_accuracy: 0.5962\n",
            "Epoch 2/10\n",
            "1250/1250 [==============================] - 6s 5ms/step - loss: 1.1121 - accuracy: 0.6096 - val_loss: 1.0800 - val_accuracy: 0.6331\n",
            "Epoch 3/10\n",
            "1250/1250 [==============================] - 6s 5ms/step - loss: 0.8826 - accuracy: 0.6939 - val_loss: 0.9401 - val_accuracy: 0.6792\n",
            "Epoch 4/10\n",
            "1250/1250 [==============================] - 6s 5ms/step - loss: 0.7304 - accuracy: 0.7467 - val_loss: 0.8518 - val_accuracy: 0.7186\n",
            "Epoch 5/10\n",
            "1250/1250 [==============================] - 6s 5ms/step - loss: 0.6133 - accuracy: 0.7894 - val_loss: 0.8320 - val_accuracy: 0.7231\n",
            "Epoch 6/10\n",
            "1250/1250 [==============================] - 6s 5ms/step - loss: 0.5238 - accuracy: 0.8235 - val_loss: 0.9324 - val_accuracy: 0.7126\n",
            "Epoch 7/10\n",
            "1250/1250 [==============================] - 6s 5ms/step - loss: 0.4524 - accuracy: 0.8476 - val_loss: 1.2049 - val_accuracy: 0.7115\n",
            "Epoch 8/10\n",
            "1250/1250 [==============================] - 6s 5ms/step - loss: 0.4000 - accuracy: 0.8638 - val_loss: 1.1746 - val_accuracy: 0.7148\n",
            "Epoch 9/10\n",
            "1250/1250 [==============================] - 6s 5ms/step - loss: 0.3685 - accuracy: 0.8801 - val_loss: 1.0139 - val_accuracy: 0.7144\n",
            "Epoch 10/10\n",
            "1250/1250 [==============================] - 6s 5ms/step - loss: 0.3422 - accuracy: 0.8877 - val_loss: 1.2240 - val_accuracy: 0.6955\n",
            "Accuracy: 69.55%\n"
          ],
          "name": "stdout"
        }
      ]
    },
    {
      "cell_type": "markdown",
      "metadata": {
        "id": "DRUDDZ0GRFEQ"
      },
      "source": [
        "This implies that we shall stick to a batch size to 64 in model5."
      ]
    },
    {
      "cell_type": "markdown",
      "metadata": {
        "id": "J3ts-kCEFzK3"
      },
      "source": [
        "Archtecture 7: Increasing on the learning rate from the default. (from 0.002)"
      ]
    },
    {
      "cell_type": "code",
      "metadata": {
        "colab": {
          "base_uri": "https://localhost:8080/"
        },
        "id": "I6hwnXEnGDkK",
        "outputId": "1379c1c2-2ead-4c4a-c8d7-a00f06dcf027"
      },
      "source": [
        "from keras.optimizers import RMSprop\n",
        "input_tensor = Input(shape=(32,32,3))\n",
        "x = layers.Conv2D(64, (3, 3), activation='relu')(input_tensor)\n",
        "x = layers.MaxPooling2D((2, 2))(x)\n",
        "x = layers.Conv2D(128, (3, 3), activation='relu')(x)\n",
        "x = layers.MaxPooling2D((2, 2))(x)\n",
        "x = layers.Conv2D(256, (3, 3), activation='relu')(x)\n",
        "x = layers.MaxPooling2D((2, 2))(x)\n",
        "x = layers.Flatten()(x)\n",
        "x = layers.Dense(128, activation='relu')(x)\n",
        "output_tensor = layers.Dense(10, activation='softmax')(x)\n",
        "model7 = Model(input_tensor, output_tensor)\n",
        "model7.summary()\n",
        "model7.compile(optimizer=RMSprop(lr = 0.002),\n",
        "              loss='categorical_crossentropy',\n",
        "              metrics=['accuracy'])\n",
        "model7.fit(partial_X_train,\n",
        "                    partial_y_train,\n",
        "                    epochs=10,\n",
        "                    batch_size=64,\n",
        "                    validation_data=(X_val, y_val))\n",
        "# Evaluation of the model\n",
        "scores = model7.evaluate(X_val, y_val, verbose=0)\n",
        "print(\"Accuracy: %.2f%%\" % (scores[1]*100))"
      ],
      "execution_count": 49,
      "outputs": [
        {
          "output_type": "stream",
          "text": [
            "Model: \"model_27\"\n",
            "_________________________________________________________________\n",
            "Layer (type)                 Output Shape              Param #   \n",
            "=================================================================\n",
            "input_29 (InputLayer)        [(None, 32, 32, 3)]       0         \n",
            "_________________________________________________________________\n",
            "conv2d_87 (Conv2D)           (None, 30, 30, 64)        1792      \n",
            "_________________________________________________________________\n",
            "max_pooling2d_87 (MaxPooling (None, 15, 15, 64)        0         \n",
            "_________________________________________________________________\n",
            "conv2d_88 (Conv2D)           (None, 13, 13, 128)       73856     \n",
            "_________________________________________________________________\n",
            "max_pooling2d_88 (MaxPooling (None, 6, 6, 128)         0         \n",
            "_________________________________________________________________\n",
            "conv2d_89 (Conv2D)           (None, 4, 4, 256)         295168    \n",
            "_________________________________________________________________\n",
            "max_pooling2d_89 (MaxPooling (None, 2, 2, 256)         0         \n",
            "_________________________________________________________________\n",
            "flatten_28 (Flatten)         (None, 1024)              0         \n",
            "_________________________________________________________________\n",
            "dense_75 (Dense)             (None, 128)               131200    \n",
            "_________________________________________________________________\n",
            "dense_76 (Dense)             (None, 10)                1290      \n",
            "=================================================================\n",
            "Total params: 503,306\n",
            "Trainable params: 503,306\n",
            "Non-trainable params: 0\n",
            "_________________________________________________________________\n",
            "Epoch 1/10\n",
            "625/625 [==============================] - 5s 7ms/step - loss: 2.0339 - accuracy: 0.2768 - val_loss: 1.6346 - val_accuracy: 0.4240\n",
            "Epoch 2/10\n",
            "625/625 [==============================] - 4s 6ms/step - loss: 1.2762 - accuracy: 0.5520 - val_loss: 1.1419 - val_accuracy: 0.5963\n",
            "Epoch 3/10\n",
            "625/625 [==============================] - 4s 6ms/step - loss: 1.0174 - accuracy: 0.6430 - val_loss: 0.9164 - val_accuracy: 0.6885\n",
            "Epoch 4/10\n",
            "625/625 [==============================] - 4s 6ms/step - loss: 0.8437 - accuracy: 0.7108 - val_loss: 1.0594 - val_accuracy: 0.6400\n",
            "Epoch 5/10\n",
            "625/625 [==============================] - 4s 6ms/step - loss: 0.7331 - accuracy: 0.7494 - val_loss: 0.9254 - val_accuracy: 0.7025\n",
            "Epoch 6/10\n",
            "625/625 [==============================] - 4s 6ms/step - loss: 0.6264 - accuracy: 0.7831 - val_loss: 0.9593 - val_accuracy: 0.6854\n",
            "Epoch 7/10\n",
            "625/625 [==============================] - 4s 6ms/step - loss: 0.5905 - accuracy: 0.8007 - val_loss: 0.9722 - val_accuracy: 0.6828\n",
            "Epoch 8/10\n",
            "625/625 [==============================] - 4s 6ms/step - loss: 0.5071 - accuracy: 0.8285 - val_loss: 1.1526 - val_accuracy: 0.6979\n",
            "Epoch 9/10\n",
            "625/625 [==============================] - 4s 6ms/step - loss: 0.4723 - accuracy: 0.8421 - val_loss: 1.1031 - val_accuracy: 0.6703\n",
            "Epoch 10/10\n",
            "625/625 [==============================] - 4s 6ms/step - loss: 0.4350 - accuracy: 0.8564 - val_loss: 1.1501 - val_accuracy: 0.6412\n",
            "Accuracy: 64.12%\n"
          ],
          "name": "stdout"
        }
      ]
    },
    {
      "cell_type": "markdown",
      "metadata": {
        "id": "aV9SaWlPyZFR"
      },
      "source": [
        "### Conclusion\n",
        "A slight increase in the model performance. So we conclude to archtecture 5 as our best model so far, with a validation accuracy of 73.32%. Let's try to evaluate it on the test dataset."
      ]
    },
    {
      "cell_type": "code",
      "metadata": {
        "colab": {
          "base_uri": "https://localhost:8080/"
        },
        "id": "adBJ0Q6qUl_0",
        "outputId": "7a8e402f-812b-4fad-f551-7d1ffeb38d5a"
      },
      "source": [
        "test_scores = model5.evaluate(X_test, y_test, verbose=0)\n",
        "print(\"Test accuracy: %.2f%%\" % (test_scores[1]*100))"
      ],
      "execution_count": 50,
      "outputs": [
        {
          "output_type": "stream",
          "text": [
            "Test accuracy: 72.85%\n"
          ],
          "name": "stdout"
        }
      ]
    },
    {
      "cell_type": "markdown",
      "metadata": {
        "id": "ALeHyREkVhIx"
      },
      "source": [
        "The test accuracy is almost as good as the validation accuracy. This can be attributed to the not having experienced the issue of overfitting on the validation data thereby generalisable validation accuracy. Let's save this model as 'cifar10_API_1.h5'."
      ]
    },
    {
      "cell_type": "code",
      "metadata": {
        "id": "-rb23R9mWPpD"
      },
      "source": [
        "model5.save('cifar10_API_1.h5')"
      ],
      "execution_count": 51,
      "outputs": []
    },
    {
      "cell_type": "markdown",
      "metadata": {
        "id": "ezvuFnjcG_oQ"
      },
      "source": [
        "\n",
        "## Keras callbacks\n",
        "When you’re training a model, there are many things you can’t predict from the start. For instance you can’t tell how many epochs will be needed to get to an optimal validation loss. A much better way to handle this is to stop training when you measure that the validation loss in no longer improving. This can be achieved using a Keras callback. \n",
        "\n",
        "Here, we shall explore two ways we can use callbacks, that is, Early stopping and Dynamically adjusting the value of certain parameters during training—Such as the\n",
        "learning rate of the optimizer.\n",
        "\n",
        "### Early stopping\n",
        "This is basically for interrupting training when the validation loss is no longer improving and continually saving the best model obtained during training by using it in combination with ModelCheckpoint."
      ]
    },
    {
      "cell_type": "code",
      "metadata": {
        "id": "-teRG3aRoQrZ",
        "colab": {
          "base_uri": "https://localhost:8080/"
        },
        "outputId": "8da60f75-cfb8-4f8a-dec9-f3e709554cd0"
      },
      "source": [
        "input_tensor = Input(shape=(32,32,3))\n",
        "x = layers.Conv2D(64, (3, 3), activation='relu')(input_tensor)\n",
        "x = layers.MaxPooling2D((2, 2))(x)\n",
        "x = layers.Conv2D(128, (3, 3), activation='relu')(x)\n",
        "x = layers.MaxPooling2D((2, 2))(x)\n",
        "x = layers.Conv2D(256, (3, 3), activation='relu')(x)\n",
        "x = layers.Flatten()(x)\n",
        "x = layers.Dense(128, activation='relu')(x)\n",
        "output_tensor = layers.Dense(10, activation='softmax')(x)\n",
        "model8 = Model(input_tensor, output_tensor)\n",
        "callbacks_list = [\n",
        "keras.callbacks.EarlyStopping(\n",
        "monitor='acc',patience=1,),keras.callbacks.ModelCheckpoint\n",
        "            (filepath='cifar10_API_2.h5',monitor='val_loss',save_best_only=True,)]\n",
        "model8.compile(optimizer='rmsprop',loss='categorical_crossentropy',metrics=['acc'])\n",
        "model8.fit(partial_X_train,partial_y_train,epochs=10,batch_size=64,callbacks=callbacks_list,\n",
        "                        validation_data=(X_val, y_val))\n",
        "# Evaluation of the model\n",
        "scores = model8.evaluate(X_val, y_val, verbose=0)\n",
        "print(\"Accuracy: %.2f%%\" % (scores[1]*100))\n"
      ],
      "execution_count": 59,
      "outputs": [
        {
          "output_type": "stream",
          "text": [
            "Epoch 1/10\n",
            "625/625 [==============================] - 5s 7ms/step - loss: 1.9032 - acc: 0.3011 - val_loss: 1.2813 - val_acc: 0.5404\n",
            "Epoch 2/10\n",
            "625/625 [==============================] - 4s 6ms/step - loss: 1.2237 - acc: 0.5701 - val_loss: 0.9901 - val_acc: 0.6520\n",
            "Epoch 3/10\n",
            "625/625 [==============================] - 4s 6ms/step - loss: 0.9600 - acc: 0.6629 - val_loss: 1.1164 - val_acc: 0.6337\n",
            "Epoch 4/10\n",
            "625/625 [==============================] - 4s 6ms/step - loss: 0.7776 - acc: 0.7321 - val_loss: 0.8468 - val_acc: 0.7159\n",
            "Epoch 5/10\n",
            "625/625 [==============================] - 4s 6ms/step - loss: 0.6410 - acc: 0.7788 - val_loss: 1.0333 - val_acc: 0.6872\n",
            "Epoch 6/10\n",
            "625/625 [==============================] - 4s 6ms/step - loss: 0.5060 - acc: 0.8250 - val_loss: 0.8504 - val_acc: 0.7281\n",
            "Epoch 7/10\n",
            "625/625 [==============================] - 4s 6ms/step - loss: 0.4034 - acc: 0.8616 - val_loss: 0.9222 - val_acc: 0.7210\n",
            "Epoch 8/10\n",
            "625/625 [==============================] - 4s 6ms/step - loss: 0.3065 - acc: 0.8917 - val_loss: 1.0047 - val_acc: 0.7250\n",
            "Epoch 9/10\n",
            "625/625 [==============================] - 4s 6ms/step - loss: 0.2330 - acc: 0.9200 - val_loss: 1.0665 - val_acc: 0.7279\n",
            "Epoch 10/10\n",
            "625/625 [==============================] - 4s 6ms/step - loss: 0.1794 - acc: 0.9386 - val_loss: 1.2056 - val_acc: 0.7287\n",
            "Accuracy: 72.87%\n"
          ],
          "name": "stdout"
        }
      ]
    },
    {
      "cell_type": "markdown",
      "metadata": {
        "id": "0vJmKQAmgVJu"
      },
      "source": [
        "### The ReduceLROnPlateau callback\n",
        "You can use this callback to reduce the learning rate when the validation loss has\n",
        "stopped improving. Reducing or increasing the learning rate in case of a loss plateau is\n",
        "is an effective strategy to get out of local minima during training."
      ]
    },
    {
      "cell_type": "code",
      "metadata": {
        "id": "sEUKhmkboo38",
        "colab": {
          "base_uri": "https://localhost:8080/"
        },
        "outputId": "bd3448f5-1ffa-4a68-8c84-9475aad0941d"
      },
      "source": [
        "input_tensor = Input(shape=(32,32,3))\n",
        "x = layers.Conv2D(64, (3, 3), activation='relu')(input_tensor)\n",
        "x = layers.MaxPooling2D((2, 2))(x)\n",
        "x = layers.Conv2D(128, (3, 3), activation='relu')(x)\n",
        "x = layers.MaxPooling2D((2, 2))(x)\n",
        "x = layers.Conv2D(256, (3, 3), activation='relu')(x)\n",
        "x = layers.Flatten()(x)\n",
        "x = layers.Dense(128, activation='relu')(x)\n",
        "output_tensor = layers.Dense(10, activation='softmax')(x)\n",
        "model9 = Model(input_tensor, output_tensor)\n",
        "callbacks_list = [\n",
        "keras.callbacks.ReduceLROnPlateau(\n",
        "monitor='val_loss',\n",
        "factor=0.1, patience=10,)]\n",
        "model9.compile(optimizer='rmsprop',loss='categorical_crossentropy',metrics=['acc'])\n",
        "model9.fit(partial_X_train, partial_y_train,epochs=10,batch_size=64,callbacks=callbacks_list,\n",
        "                      validation_data=(X_val, y_val))\n",
        "\n",
        "# Evaluation of the model\n",
        "scores = model9.evaluate(X_val, y_val, verbose=0)\n",
        "print(\"Accuracy: %.2f%%\" % (scores[1]*100))\n"
      ],
      "execution_count": 60,
      "outputs": [
        {
          "output_type": "stream",
          "text": [
            "Epoch 1/10\n",
            "625/625 [==============================] - 5s 7ms/step - loss: 1.8865 - acc: 0.3082 - val_loss: 1.2427 - val_acc: 0.5513\n",
            "Epoch 2/10\n",
            "625/625 [==============================] - 4s 6ms/step - loss: 1.2026 - acc: 0.5757 - val_loss: 1.0126 - val_acc: 0.6415\n",
            "Epoch 3/10\n",
            "625/625 [==============================] - 4s 6ms/step - loss: 0.9528 - acc: 0.6673 - val_loss: 0.8546 - val_acc: 0.7054\n",
            "Epoch 4/10\n",
            "625/625 [==============================] - 4s 6ms/step - loss: 0.7602 - acc: 0.7356 - val_loss: 0.8090 - val_acc: 0.7216\n",
            "Epoch 5/10\n",
            "625/625 [==============================] - 4s 6ms/step - loss: 0.6210 - acc: 0.7841 - val_loss: 0.8438 - val_acc: 0.7145\n",
            "Epoch 6/10\n",
            "625/625 [==============================] - 4s 6ms/step - loss: 0.4997 - acc: 0.8255 - val_loss: 0.9240 - val_acc: 0.7040\n",
            "Epoch 7/10\n",
            "625/625 [==============================] - 4s 6ms/step - loss: 0.3926 - acc: 0.8633 - val_loss: 0.9221 - val_acc: 0.7307\n",
            "Epoch 8/10\n",
            "625/625 [==============================] - 4s 6ms/step - loss: 0.3018 - acc: 0.8964 - val_loss: 0.9843 - val_acc: 0.7195\n",
            "Epoch 9/10\n",
            "625/625 [==============================] - 4s 6ms/step - loss: 0.2281 - acc: 0.9225 - val_loss: 1.0478 - val_acc: 0.7429\n",
            "Epoch 10/10\n",
            "625/625 [==============================] - 4s 6ms/step - loss: 0.1707 - acc: 0.9404 - val_loss: 1.2225 - val_acc: 0.7245\n",
            "Accuracy: 72.45%\n"
          ],
          "name": "stdout"
        }
      ]
    },
    {
      "cell_type": "markdown",
      "metadata": {
        "id": "RaYnUvjphiNN"
      },
      "source": [
        "## Advanced architecture patterns\n",
        "We are going to use three important design pattern in detail in the previous section: Batch normalization, depthwise separable convolution and Model ensembling. These patterns are especially relevant when you’re building high-performing deep convnets, but they’re commonly found\n",
        "in many other types of architectures as well."
      ]
    },
    {
      "cell_type": "code",
      "metadata": {
        "id": "4sfk9PTF4ssC",
        "colab": {
          "base_uri": "https://localhost:8080/"
        },
        "outputId": "57be0afd-2bfb-41e7-8659-8467badaabad"
      },
      "source": [
        "input_tensor = Input(shape=(32,32,3))\n",
        "x = layers.Conv2D(64, (3, 3), activation='relu')(input_tensor)\n",
        "x = layers.BatchNormalization()(x)\n",
        "x = layers.MaxPooling2D((2, 2))(x)\n",
        "x = layers.Conv2D(128, (3, 3), activation='relu')(x)\n",
        "x = layers.BatchNormalization()(x)\n",
        "x = layers.MaxPooling2D((2, 2))(x)\n",
        "x = layers.Conv2D(256, (3, 3), activation='relu')(x)\n",
        "x = layers.BatchNormalization()(x)\n",
        "x = layers.Flatten()(x)\n",
        "x = layers.Dense(128, activation='relu')(x)\n",
        "x = layers.BatchNormalization()(x)\n",
        "output_tensor = layers.Dense(10, activation='softmax')(x)\n",
        "model10 = Model(input_tensor, output_tensor)\n",
        "model10.summary()\n",
        "\n",
        "model10.compile(optimizer='rmsprop',loss='categorical_crossentropy',metrics=['acc'])\n",
        "model10.fit(partial_X_train, partial_y_train,epochs=10,batch_size=64,\n",
        "                      validation_data=(X_val, y_val))\n",
        "\n",
        "# Evaluation of the model\n",
        "scores = model10.evaluate(X_val, y_val, verbose=0)\n",
        "print(\"Accuracy: %.2f%%\" % (scores[1]*100))"
      ],
      "execution_count": 61,
      "outputs": [
        {
          "output_type": "stream",
          "text": [
            "Model: \"model_37\"\n",
            "_________________________________________________________________\n",
            "Layer (type)                 Output Shape              Param #   \n",
            "=================================================================\n",
            "input_39 (InputLayer)        [(None, 32, 32, 3)]       0         \n",
            "_________________________________________________________________\n",
            "conv2d_114 (Conv2D)          (None, 30, 30, 64)        1792      \n",
            "_________________________________________________________________\n",
            "batch_normalization_8 (Batch (None, 30, 30, 64)        256       \n",
            "_________________________________________________________________\n",
            "max_pooling2d_108 (MaxPoolin (None, 15, 15, 64)        0         \n",
            "_________________________________________________________________\n",
            "conv2d_115 (Conv2D)          (None, 13, 13, 128)       73856     \n",
            "_________________________________________________________________\n",
            "batch_normalization_9 (Batch (None, 13, 13, 128)       512       \n",
            "_________________________________________________________________\n",
            "max_pooling2d_109 (MaxPoolin (None, 6, 6, 128)         0         \n",
            "_________________________________________________________________\n",
            "conv2d_116 (Conv2D)          (None, 4, 4, 256)         295168    \n",
            "_________________________________________________________________\n",
            "batch_normalization_10 (Batc (None, 4, 4, 256)         1024      \n",
            "_________________________________________________________________\n",
            "flatten_38 (Flatten)         (None, 4096)              0         \n",
            "_________________________________________________________________\n",
            "dense_95 (Dense)             (None, 128)               524416    \n",
            "_________________________________________________________________\n",
            "batch_normalization_11 (Batc (None, 128)               512       \n",
            "_________________________________________________________________\n",
            "dense_96 (Dense)             (None, 10)                1290      \n",
            "=================================================================\n",
            "Total params: 898,826\n",
            "Trainable params: 897,674\n",
            "Non-trainable params: 1,152\n",
            "_________________________________________________________________\n",
            "Epoch 1/10\n",
            "625/625 [==============================] - 6s 8ms/step - loss: 1.4969 - acc: 0.4844 - val_loss: 1.1089 - val_acc: 0.6129\n",
            "Epoch 2/10\n",
            "625/625 [==============================] - 5s 8ms/step - loss: 0.8257 - acc: 0.7114 - val_loss: 0.8742 - val_acc: 0.6958\n",
            "Epoch 3/10\n",
            "625/625 [==============================] - 5s 8ms/step - loss: 0.5884 - acc: 0.7963 - val_loss: 0.9005 - val_acc: 0.6863\n",
            "Epoch 4/10\n",
            "625/625 [==============================] - 5s 8ms/step - loss: 0.4217 - acc: 0.8542 - val_loss: 1.0769 - val_acc: 0.6704\n",
            "Epoch 5/10\n",
            "625/625 [==============================] - 5s 8ms/step - loss: 0.2959 - acc: 0.9023 - val_loss: 0.9966 - val_acc: 0.6966\n",
            "Epoch 6/10\n",
            "625/625 [==============================] - 5s 8ms/step - loss: 0.1979 - acc: 0.9346 - val_loss: 1.1122 - val_acc: 0.6735\n",
            "Epoch 7/10\n",
            "625/625 [==============================] - 5s 8ms/step - loss: 0.1414 - acc: 0.9531 - val_loss: 1.0990 - val_acc: 0.7181\n",
            "Epoch 8/10\n",
            "625/625 [==============================] - 5s 8ms/step - loss: 0.1173 - acc: 0.9616 - val_loss: 1.4623 - val_acc: 0.6970\n",
            "Epoch 9/10\n",
            "625/625 [==============================] - 5s 8ms/step - loss: 0.0992 - acc: 0.9662 - val_loss: 1.3013 - val_acc: 0.7024\n",
            "Epoch 10/10\n",
            "625/625 [==============================] - 5s 8ms/step - loss: 0.0858 - acc: 0.9711 - val_loss: 1.4404 - val_acc: 0.7055\n",
            "Accuracy: 70.55%\n"
          ],
          "name": "stdout"
        }
      ]
    },
    {
      "cell_type": "code",
      "metadata": {
        "id": "A8vYnFAe8nq7",
        "colab": {
          "base_uri": "https://localhost:8080/"
        },
        "outputId": "b0b86b8f-ecf7-47c3-9a2d-e8a6dd1e8a28"
      },
      "source": [
        "input_tensor = Input(shape=(32,32,3))\n",
        "x = layers.SeparableConv2D(64, (3, 3), activation='relu')(input_tensor)\n",
        "x = layers.MaxPooling2D((2, 2))(x)\n",
        "x = layers.SeparableConv2D(128, (3, 3), activation='relu')(x)\n",
        "x = layers.MaxPooling2D((2, 2))(x)\n",
        "x = layers.SeparableConv2D(256, (3, 3), activation='relu')(x)\n",
        "x = layers.Flatten()(x)\n",
        "x = layers.Dense(128, activation='relu')(x)\n",
        "output_tensor = layers.Dense(10, activation='softmax')(x)\n",
        "model11 = Model(input_tensor, output_tensor)\n",
        "model11.summary()\n",
        "\n",
        "model11.compile(optimizer='rmsprop',loss='categorical_crossentropy',metrics=['acc'])\n",
        "model11.fit(partial_X_train, partial_y_train,epochs=10,batch_size=64,\n",
        "                      validation_data=(X_val, y_val))\n",
        "\n",
        "# Evaluation of the model\n",
        "scores = model11.evaluate(X_val, y_val, verbose=0)\n",
        "print(\"Accuracy: %.2f%%\" % (scores[1]*100))\n"
      ],
      "execution_count": 65,
      "outputs": [
        {
          "output_type": "stream",
          "text": [
            "Model: \"model_38\"\n",
            "_________________________________________________________________\n",
            "Layer (type)                 Output Shape              Param #   \n",
            "=================================================================\n",
            "input_40 (InputLayer)        [(None, 32, 32, 3)]       0         \n",
            "_________________________________________________________________\n",
            "separable_conv2d_3 (Separabl (None, 30, 30, 64)        283       \n",
            "_________________________________________________________________\n",
            "max_pooling2d_110 (MaxPoolin (None, 15, 15, 64)        0         \n",
            "_________________________________________________________________\n",
            "separable_conv2d_4 (Separabl (None, 13, 13, 128)       8896      \n",
            "_________________________________________________________________\n",
            "max_pooling2d_111 (MaxPoolin (None, 6, 6, 128)         0         \n",
            "_________________________________________________________________\n",
            "separable_conv2d_5 (Separabl (None, 4, 4, 256)         34176     \n",
            "_________________________________________________________________\n",
            "flatten_39 (Flatten)         (None, 4096)              0         \n",
            "_________________________________________________________________\n",
            "dense_97 (Dense)             (None, 128)               524416    \n",
            "_________________________________________________________________\n",
            "dense_98 (Dense)             (None, 10)                1290      \n",
            "=================================================================\n",
            "Total params: 569,061\n",
            "Trainable params: 569,061\n",
            "Non-trainable params: 0\n",
            "_________________________________________________________________\n",
            "Epoch 1/10\n",
            "625/625 [==============================] - 7s 9ms/step - loss: 2.0942 - acc: 0.2098 - val_loss: 1.6605 - val_acc: 0.3898\n",
            "Epoch 2/10\n",
            "625/625 [==============================] - 6s 9ms/step - loss: 1.6207 - acc: 0.4112 - val_loss: 1.4173 - val_acc: 0.4864\n",
            "Epoch 3/10\n",
            "625/625 [==============================] - 6s 9ms/step - loss: 1.4271 - acc: 0.4832 - val_loss: 1.3332 - val_acc: 0.5243\n",
            "Epoch 4/10\n",
            "625/625 [==============================] - 6s 9ms/step - loss: 1.2952 - acc: 0.5378 - val_loss: 1.3789 - val_acc: 0.5220\n",
            "Epoch 5/10\n",
            "625/625 [==============================] - 6s 9ms/step - loss: 1.2069 - acc: 0.5711 - val_loss: 1.2106 - val_acc: 0.5696\n",
            "Epoch 6/10\n",
            "625/625 [==============================] - 6s 9ms/step - loss: 1.1240 - acc: 0.6033 - val_loss: 1.1852 - val_acc: 0.5826\n",
            "Epoch 7/10\n",
            "625/625 [==============================] - 6s 9ms/step - loss: 1.0388 - acc: 0.6334 - val_loss: 1.1413 - val_acc: 0.6003\n",
            "Epoch 8/10\n",
            "625/625 [==============================] - 6s 9ms/step - loss: 0.9767 - acc: 0.6589 - val_loss: 1.0817 - val_acc: 0.6227\n",
            "Epoch 9/10\n",
            "625/625 [==============================] - 6s 9ms/step - loss: 0.9195 - acc: 0.6755 - val_loss: 1.0755 - val_acc: 0.6184\n",
            "Epoch 10/10\n",
            "625/625 [==============================] - 6s 9ms/step - loss: 0.8538 - acc: 0.6997 - val_loss: 1.1250 - val_acc: 0.6158\n",
            "Accuracy: 61.58%\n"
          ],
          "name": "stdout"
        }
      ]
    },
    {
      "cell_type": "markdown",
      "metadata": {
        "id": "HDnFO-m0mv_B"
      },
      "source": [
        "## Model ensembling\n",
        "This is a powerful technique for obtaining the best possible results on a task is model ensembling. Ensembling relies on the assumption that different good models trained independently are likely to be good for different reasons: each model looks at slightly different\n",
        "aspects of the data to make its predictions, getting part of the “truth” but not all of it. Let's apply this as follows;"
      ]
    },
    {
      "cell_type": "code",
      "metadata": {
        "id": "mIeKzMp98QsX"
      },
      "source": [
        "# Five different models to use to compute initial predictions.\n",
        "preds_a = model5.predict(X_test)\n",
        "preds_b = model8.predict(X_test)\n",
        "preds_c = model9.predict(X_test)\n",
        "preds_d = model10.predict(X_test)\n",
        "preds_e = model11.predict(X_test)\n"
      ],
      "execution_count": 67,
      "outputs": []
    },
    {
      "cell_type": "code",
      "metadata": {
        "id": "9vevbMF78Zir"
      },
      "source": [
        "# Going from the prediction probabilities for each class  to the \n",
        "# predicted class using numpy.argmax.\n",
        "import numpy as np\n",
        "preds_a_2 = np.argmax(preds_a, axis =1)\n",
        "preds_b_2 = np.argmax(preds_b, axis =1)\n",
        "preds_c_2 = np.argmax(preds_c, axis =1)\n",
        "preds_d_2 = np.argmax(preds_d, axis =1)\n",
        "preds_e_2 = np.argmax(preds_e, axis =1)\n"
      ],
      "execution_count": 69,
      "outputs": []
    },
    {
      "cell_type": "code",
      "metadata": {
        "id": "hAPADf489Q1D"
      },
      "source": [
        "y_preds_a_2 = to_categorical(preds_a_2)\n",
        "y_preds_b_2 = to_categorical(preds_b_2)\n",
        "y_preds_c_2 = to_categorical(preds_c_2)\n",
        "y_preds_d_2 = to_categorical(preds_d_2)\n",
        "y_preds_e_2 = to_categorical(preds_e_2)\n"
      ],
      "execution_count": 70,
      "outputs": []
    },
    {
      "cell_type": "code",
      "metadata": {
        "id": "5fGWTHuhJW0t",
        "colab": {
          "base_uri": "https://localhost:8080/"
        },
        "outputId": "7ee4fd1a-0abb-4578-89c6-1a3a5c8180fd"
      },
      "source": [
        "# Precision scores\n",
        "pred_a_score = metrics.precision_score(y_test, y_preds_a_2, average='macro')\n",
        "pred_b_score = metrics.precision_score(y_test, y_preds_b_2, average='macro')\n",
        "pred_c_score = metrics.precision_score(y_test, y_preds_c_2, average='macro')\n",
        "pred_d_score = metrics.precision_score(y_test, y_preds_d_2, average='macro')\n",
        "pred_e_score = metrics.precision_score(y_test, y_preds_e_2, average='macro')\n",
        "pred_total = pred_a_score + pred_b_score + pred_c_score + pred_d_score + pred_e_score \n",
        "print(pred_a_score)\n",
        "print(pred_b_score)\n",
        "print(pred_c_score)\n",
        "print(pred_d_score)\n",
        "print(pred_e_score)\n"
      ],
      "execution_count": 73,
      "outputs": [
        {
          "output_type": "stream",
          "text": [
            "0.733326391429419\n",
            "0.7241653682169947\n",
            "0.7267787197077016\n",
            "0.712982256749798\n",
            "0.6478985580883533\n"
          ],
          "name": "stdout"
        }
      ]
    },
    {
      "cell_type": "code",
      "metadata": {
        "id": "VnF7LmBCSClB"
      },
      "source": [
        "final_preds = (pred_a_score/pred_total) * preds_a + (pred_b_score/pred_total) * preds_b + (pred_c_score/pred_total) * preds_c +(pred_d_score/pred_total) * preds_d +(pred_e_score/pred_total) * preds_e \n"
      ],
      "execution_count": 75,
      "outputs": []
    },
    {
      "cell_type": "code",
      "metadata": {
        "id": "ElzCfJmGbv85",
        "colab": {
          "base_uri": "https://localhost:8080/"
        },
        "outputId": "bd1665ab-296f-42df-a1ca-c4a1f528f8ea"
      },
      "source": [
        "final_preds_2 = np.argmax(final_preds, axis =1)\n",
        "y_final_preds_2 = to_categorical(final_preds_2)\n",
        "metrics.precision_score(y_test, y_final_preds_2, average='macro')"
      ],
      "execution_count": 77,
      "outputs": [
        {
          "output_type": "execute_result",
          "data": {
            "text/plain": [
              "0.7837499028106949"
            ]
          },
          "metadata": {
            "tags": []
          },
          "execution_count": 77
        }
      ]
    },
    {
      "cell_type": "markdown",
      "metadata": {
        "id": "PdvS6366bD4w"
      },
      "source": [
        "The model outperforms all our previous models."
      ]
    }
  ]
}